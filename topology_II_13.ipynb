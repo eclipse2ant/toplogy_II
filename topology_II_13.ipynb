{
  "nbformat": 4,
  "nbformat_minor": 0,
  "metadata": {
    "colab": {
      "provenance": [],
      "authorship_tag": "ABX9TyPlrW9JyTY7h79ZIoQSL4vc",
      "include_colab_link": true
    },
    "kernelspec": {
      "name": "python3",
      "display_name": "Python 3"
    },
    "language_info": {
      "name": "python"
    }
  },
  "cells": [
    {
      "cell_type": "markdown",
      "metadata": {
        "id": "view-in-github",
        "colab_type": "text"
      },
      "source": [
        "<a href=\"https://colab.research.google.com/github/eclipse2ant/toplogy_II/blob/master/topology_II_13.ipynb\" target=\"_parent\"><img src=\"https://colab.research.google.com/assets/colab-badge.svg\" alt=\"Open In Colab\"/></a>"
      ]
    },
    {
      "cell_type": "markdown",
      "source": [
        "#13. Paths, Loops, Cylinders, Suspension"
      ],
      "metadata": {
        "id": "9Vq_TYAtNTOR"
      }
    },
    {
      "cell_type": "markdown",
      "source": [
        "第１０，１１回で出てきたいろんな概念の、一番初歩的な意味づけは、CGWHの時の場合です。ここでは本の６章でそれらについて学びましょう。まずIntroduction をChatGPT で訳させてみました。\n"
      ],
      "metadata": {
        "id": "6T1GekdB6fNU"
      }
    },
    {
      "cell_type": "markdown",
      "source": [
        "- 第0章では、オブジェクトが他のオブジェクトとの関係によって完全に定義されるというカテゴリー的なテーマを紹介しました。これは定理0.1、つまりYonedaの補題の系としての、あるカテゴリーにおけるオブジェクトXとYが同型であるための必要十分条件が、全てのオブジェクトZに対して対応する集合Top(Z; X)とTop(Z; Y)が同型であることを述べていることに起源を持ちます。<br><br>この「一つのオブジェクトを別のオブジェクトで探る」という情報を得る手法は、代数的トポロジー全般にわたって広く使用されており、トポロジカルスペースのための特に有用な探査オブジェクトは円$S^1$（一般的には球面$S^n$）です。連続写像S^1 -> Xは空間X内のループを表すため、Top($S^1$; X)とTop($S^1$; Y)を比較することは、XとY内の全てのループの集合を比較することに相当します。<br><br>しかし実際には、これらは非常に複雑な集合です。状況を整理するためには、ループのホモトピークラスを考慮することがより良いです。ここで、一方のループが連続的に別のものに形を変えられる場合には、区別されません。そこで問題となるのは、「Xにおける最も『基本的』なループは何か、そしてそれはYにおけるものと異なるか？」です。さらに単純化するために、X内の固定点で始まり終わるループのみを考慮します。そのようなホモトピークラスのループの集合は、選択した点でのXの基本群と呼ばれるグループを形成し、これがファンクターTop -> Grpのオブジェクト割り当てを定義します。これにより、「代数的トポロジー」という意味が生き始めます。<br><br>\n",
        "これらのアイデアは、指定されたトポロジカルスペースとそれらの間のホモトピークラスの写像のカテゴリー的研究を動機付けます。これが本章の目標です。途中で、そのような空間の興味深い例や自然な写像、パス、ループ、シリンダー、円錐、サスペンション、ウェッジ、スマッシュを含む様々な随伴関係に出会います。<br><br>第6.1節ではホモトピーとそれらの代替的な見方についての簡単な復習から始めます。第6.2節では、基本群体と呼ばれる一般的な構造の特別なケースとして、基点付きループのホモトピークラスを動機付けます。第6.3節では「指定された」トポロジカルスペースに焦点を当てることで、基本群を導き出します。その後、第6.4節でスマッシュ-ホム随伴と呼ばれる積-ホム随伴の指定されたバージョンであるスマッシュ-ホム随伴を分析し、さらに特化して第6.5節でサスペンション-ループ随伴を得ます。この随伴と第6.6節でのファイブレーションに関する伴う結果は、円の基本群がZであることを素晴らしく短い証明を提供します。第6.6.3節では、この結果の4つの応用を紹介し、第6.7節ではSeifert van Kampenの定理を導入し、それを使用して他の馴染みのあるトポロジカルスペースの基本群を計算します。\n",
        "\n",
        "\n",
        "\n",
        "\n",
        "\n",
        "\n",
        "\n",
        "\n",
        "\n",
        "\n",
        "\n",
        "\n",
        "\n"
      ],
      "metadata": {
        "id": "MPaeZ9aemENP"
      }
    },
    {
      "cell_type": "markdown",
      "source": [
        "上の文章を参考にしなが6章を読んでみてください。"
      ],
      "metadata": {
        "id": "imVJQxk_AUQD"
      }
    },
    {
      "cell_type": "markdown",
      "source": [
        "##13.1 連結性(Connectedness)"
      ],
      "metadata": {
        "id": "MFws6aqwHQTZ"
      }
    },
    {
      "cell_type": "markdown",
      "source": [
        "- 位相空間重要な性質としてコンパクトや局所コンパクトは既にやりましたが、説明してないのが、**連結性**です。弧状連結と連結があります。Thorem 2.1 2.2 をみて下さい。弧状連結ならば連結です。逆はユークリッド位相に関しては成り立ちます。その意味では局所的にユークリッド位相のはりあわせである多様体でも逆は成り立ちます。連結な空間の連続写像による像は連続です。これで高校数学であいまいだった中間値の定理は閉区間が連結（あるいは弧状連結）であることから、証明されます。"
      ],
      "metadata": {
        "id": "pvUjlm19H9hJ"
      }
    },
    {
      "cell_type": "markdown",
      "source": [
        "- 連結という性質の使い方は、連結の定義は、Xは連結と　空でないXの部分集合がopen and closed だったら X です。\n",
        "だから連結だった何か性質をX全体で成り立つことを言いたいとき、成り立つ部分集合を定義して、それがopen closed 空でない を示す。というのが代表的な使い方です。"
      ],
      "metadata": {
        "id": "3zEE41iwKYmj"
      }
    },
    {
      "cell_type": "markdown",
      "source": [
        "- あと、共通部分をもつ連結集合の和集合は、やはり連結です。証明はDefinition 2.1 (ii) を使えば自明ですね。そこで　連結成分という概念が定義できます。"
      ],
      "metadata": {
        "id": "X9FTR1boLbRS"
      }
    },
    {
      "cell_type": "markdown",
      "source": [
        "#13.2.  一点コンパクト化の具体例  "
      ],
      "metadata": {
        "id": "ako2ffsyAy17"
      }
    },
    {
      "cell_type": "markdown",
      "source": [
        "最後に一点コンパクト化の面白い適用例をあげておきます。"
      ],
      "metadata": {
        "id": "bs1gnnB2GtfF"
      }
    },
    {
      "cell_type": "markdown",
      "source": [
        "- Theorem 5.2 によって一点コンパクト化は同型を除いて一意であるので、Theorem 6.3 が成り立ちます。左辺が$X \\times Y$ の一点コンパクト化になってるのは、少し考えればわかりますね"
      ],
      "metadata": {
        "id": "04zWZAL8BERy"
      }
    },
    {
      "cell_type": "markdown",
      "source": [
        "- $X$ を位相空間とし、自然数の集合$N$に離散位相入れておきます。これは局所コンパクト・ハウスドルフ空間ですから、その一点コンパクト化を$N^*$ 加えた点を$\\infty$ とすると、点列の極限 $lim_{n \\rightarrow \\infty}\\  a_n = b $  は  $a : N^* \\rightarrow X\\  s.t.\\ a(\\infty) = b,\\ a \\text{は連続}  $  と同値になります。"
      ],
      "metadata": {
        "id": "WQ7YRILPC_4T"
      }
    }
  ]
}