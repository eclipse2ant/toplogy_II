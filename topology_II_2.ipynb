{
  "nbformat": 4,
  "nbformat_minor": 0,
  "metadata": {
    "colab": {
      "provenance": [],
      "authorship_tag": "ABX9TyNs6h7BHiQT/NXWkafjXVUC",
      "include_colab_link": true
    },
    "kernelspec": {
      "name": "python3",
      "display_name": "Python 3"
    },
    "language_info": {
      "name": "python"
    }
  },
  "cells": [
    {
      "cell_type": "markdown",
      "metadata": {
        "id": "view-in-github",
        "colab_type": "text"
      },
      "source": [
        "<a href=\"https://colab.research.google.com/github/eclipse2ant/toplogy_II/blob/master/topology_II_2.ipynb\" target=\"_parent\"><img src=\"https://colab.research.google.com/assets/colab-badge.svg\" alt=\"Open In Colab\"/></a>"
      ]
    },
    {
      "cell_type": "markdown",
      "source": [
        "#2. 圏論入門"
      ],
      "metadata": {
        "id": "ei1uvmZ8YMMl"
      }
    },
    {
      "cell_type": "markdown",
      "source": [
        "##2.1. 圏の定義、関手、自然変換"
      ],
      "metadata": {
        "id": "riuzfdSEeuUV"
      }
    },
    {
      "cell_type": "markdown",
      "source": [
        "- 圏論に関しては次の動画わかりやすいです\n",
        "\n",
        "[【圏論】圏論で数学の\"あたりまえ\"を知ろう！](https://www.youtube.com/watch?v=PGkzf24i3-Q)<br>\n",
        "[【圏論】圏の圏を考えたい！そうだ関手を定義しよう！](https://www.youtube.com/watch?v=8ycVEcgH4bI&t=1460s)</br>\n",
        "[【応用圏論】回路もフローチャートも数学で！図式と圏論のハナシ](https://www.youtube.com/watch?v=r9DKJ6F1bBw\n",
        ")"
      ],
      "metadata": {
        "id": "05innAe3gozv"
      }
    },
    {
      "cell_type": "markdown",
      "source": [
        "- ほかにも、次のような動画があります。\n",
        "\n",
        "[プログラマのためのモナド入門 稲見 泰宏 | プログラマのためのモナド入門](https://www.youtube.com/watch?v=fhuAlDPgi2Q)\n",
        "\n",
        "はプログラミングがらみで解説されてますが、圏論の解説もわかりやすいです。モナドについても理解してください。　付属として\n",
        "\n",
        "https://github.com/eclipse2ant/math_walk/blob/master/math_walk_9.ipynb\n",
        "\n",
        "も参考にしてください。\n",
        "\n",
        "[Category Theory 1.1: Motivation and Philosophy](https://www.youtube.com/watch?v=I8LbkfSSR58&t=6s)\n",
        "\n",
        "も面白いです。日本語字幕が出ます。　これも\n",
        "\n",
        "https://github.com/eclipse2ant/math_walk/blob/master/math_walk_10.ipynb\n",
        "\n",
        "も参考にしてください\n",
        "\n"
      ],
      "metadata": {
        "id": "hl2hpxGwdPBi"
      }
    },
    {
      "cell_type": "markdown",
      "source": [
        "- 圏論の重要性は\n",
        "\n",
        "[「圏論とプログラミング」発表スライドメモ](https://qiita.com/inamiy/items/9af1da1faec22cd968f0)\n",
        "\n",
        "https://github.com/eclipse2ant/math_walk/blob/master/math_walk_reference.ipynb\n",
        "\n",
        "にも圏論さらには∞圏論について触れています。ここには圏論についての本も紹介しています。\n"
      ],
      "metadata": {
        "id": "BY_Lbf_2jl9C"
      }
    }
  ]
}