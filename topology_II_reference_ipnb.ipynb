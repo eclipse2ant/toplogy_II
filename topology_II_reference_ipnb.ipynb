{
  "nbformat": 4,
  "nbformat_minor": 0,
  "metadata": {
    "colab": {
      "provenance": [],
      "authorship_tag": "ABX9TyOrRhdiBbBZmoyn+P6KNfba",
      "include_colab_link": true
    },
    "kernelspec": {
      "name": "python3",
      "display_name": "Python 3"
    },
    "language_info": {
      "name": "python"
    }
  },
  "cells": [
    {
      "cell_type": "markdown",
      "metadata": {
        "id": "view-in-github",
        "colab_type": "text"
      },
      "source": [
        "<a href=\"https://colab.research.google.com/github/eclipse2ant/toplogy_II/blob/master/topology_II_reference_ipnb.ipynb\" target=\"_parent\"><img src=\"https://colab.research.google.com/assets/colab-badge.svg\" alt=\"Open In Colab\"/></a>"
      ]
    },
    {
      "cell_type": "markdown",
      "source": [
        "# 位相空間論の学び方\n"
      ],
      "metadata": {
        "id": "6MrTqJBkrHAa"
      }
    },
    {
      "cell_type": "markdown",
      "source": [
        "- 位相空間論ってGeneral Topology って英語で言いますが、いまはGeneralなのかなぁ。<br>https://www.math.ias.edu/vladimir/sites/math.ias.edu.vladimir/files/A1_homotopy_ICM_1998_Berlin_published.pdf<br>なぜ、書きたいかというと、<br>https://github.com/eclipse2ant/toplogy_II/blob/master/topology_II_2.ipynb\n"
      ],
      "metadata": {
        "id": "ei1uvmZ8YMMl"
      }
    },
    {
      "cell_type": "markdown",
      "source": [
        "\n",
        "- いろんな分野が圏論でつながる動画をアップしました。今回は数学内部、通常の位相空間でホモトピーを使うには、コンパクト生成ハウスドルフ空間（以下CGHと略します）でないとだめです。\n"
      ],
      "metadata": {
        "id": "riuzfdSEeuUV"
      }
    },
    {
      "cell_type": "markdown",
      "source": [
        "- そこで代数幾何でホモトピーを扱いたいときは、ザリスキー位相はハウスドルフ空間でないのでだめです。そこで圏論でホモトピーの言葉を置き替えます。それがQuillenのモデル圏です。しかし圏論はぬいぐるみで言えば外側の皮だけです。プログラミングで言えばOOPでいえばインターフェースであって実装するようなクラスやインスタンスが必要です。ぬいぐるみの中身をいろんな分野で置き替えて、いろんな関連を見ましたが、今の場合に中身を書いてるのが上に引用した、VoevodskyがICM1998（国際数学者会議）で行ったレクチャーです。ここで出てくるのがA^1ホモトピー論で、ここからモチビック・コホモロジーが出てくるし、代数的K理論にミルナー予想の解決を彼はして、フィールズ賞を2002年に受賞しています。\n"
      ],
      "metadata": {
        "id": "OpCNEVZrpj9o"
      }
    },
    {
      "cell_type": "markdown",
      "source": [
        "- Model Categories and Simplicial Methods<br>\n",
        "https://homepages.math.uic.edu/~bshipley/goerss.pdf<br>のExample 2.15 で　Simplical group の時のホモトピー群を定めます  一般の時も位相空間に関係なくSimiplical set の言葉で定義されて、ここで幾何学的実現で位相空間\n",
        "としてはCGHになりそのホモトピー群と同型になります。つまり、CGHのなすホモトピー群がSimplical set の言葉だけで位相を使わずに定義されたことになります。\n"
      ],
      "metadata": {
        "id": "SW_6yVcpx72W"
      }
    },
    {
      "cell_type": "markdown",
      "source": [
        "- 幾何学的実現が位相空間へ関手だったので（これって圏同値？）　これをスキームの圏に替えて、行くステップがICMのレクチャーです。ここではColimit が存在させるために前者はCGHを仮定しましたが、今回は米田埋め込みで　表現可能　PreSheaf つまりHom(-,X) として　そこで　特別なグロタンディーク位相をいれてそのsite でのSheaficationを行って、Colimitを持つようにします。で　Simplical Sheafを考えていきます。\n",
        "\n",
        "\n"
      ],
      "metadata": {
        "id": "jY2GS39bqMLB"
      }
    },
    {
      "cell_type": "markdown",
      "source": [
        "- さて、ここでいきなり、<br>http://pantodon.jp/index.rb?body=motivic_homotopy_theory#cite.0@Voevodsky1998<br>に飛んでみましょう。この立ち位置で位相空間を眺めた方が学生にとってもいいのかな。motivic homotopy theory ってひも理論とどうかかわるんだろう??"
      ],
      "metadata": {
        "id": "7GwzpVBrqman"
      }
    }
  ]
}