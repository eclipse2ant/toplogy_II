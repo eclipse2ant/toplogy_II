{
  "nbformat": 4,
  "nbformat_minor": 0,
  "metadata": {
    "colab": {
      "provenance": [],
      "authorship_tag": "ABX9TyOIDZYSrmKSX+dsdA54XfeF",
      "include_colab_link": true
    },
    "kernelspec": {
      "name": "python3",
      "display_name": "Python 3"
    },
    "language_info": {
      "name": "python"
    }
  },
  "cells": [
    {
      "cell_type": "markdown",
      "metadata": {
        "id": "view-in-github",
        "colab_type": "text"
      },
      "source": [
        "<a href=\"https://colab.research.google.com/github/eclipse2ant/toplogy_II/blob/master/topology_II_reference_ipnb.ipynb\" target=\"_parent\"><img src=\"https://colab.research.google.com/assets/colab-badge.svg\" alt=\"Open In Colab\"/></a>"
      ]
    },
    {
      "cell_type": "markdown",
      "source": [
        "#1. 位相空間論の学び方(代数的トポロジーから）\n"
      ],
      "metadata": {
        "id": "6MrTqJBkrHAa"
      }
    },
    {
      "cell_type": "markdown",
      "source": [
        "- 位相空間論ってGeneral Topology って英語で言いますが、いまはGeneralなのかなぁ。<br>https://www.math.ias.edu/vladimir/sites/math.ias.edu.vladimir/files/A1_homotopy_ICM_1998_Berlin_published.pdf<br>なぜ、書きたいかというと、<br>https://github.com/eclipse2ant/toplogy_II/blob/master/topology_II_2.ipynb<br>で いろんな分野が圏論でつながる動画をアップしました。今回は数学内部、通常の位相空間でホモトピーを使うには、コンパクト生成j弱ハウスドルフ空間（以下CGWHと略します）でないとだめです。\n"
      ],
      "metadata": {
        "id": "ei1uvmZ8YMMl"
      }
    },
    {
      "cell_type": "markdown",
      "source": [
        "- そこで代数幾何でホモトピーを扱いたいときは、ザリスキー位相は弱ハウスドルフ空間でないのでだめです。そこで圏論でホモトピーの言葉を置き替えます。それがQuillenのモデル圏です。しかし圏論はぬいぐるみで言えば外側の皮だけです。プログラミングで言えばOOPでいえばインターフェースであって実装するようなクラスやインスタンスが必要です。ぬいぐるみの中身をいろんな分野で置き替えて、いろんな関連を見ましたが、今の場合に中身を書いてるのが上に引用した、VoevodskyがICM1998（国際数学者会議）で行ったレクチャーです。ここで出てくるのがA^1ホモトピー論で、ここからモチビック・コホモロジーが出てくるし、代数的K理論にミルナー予想の解決を彼はして、フィールズ賞を2002年に受賞しています。\n"
      ],
      "metadata": {
        "id": "OpCNEVZrpj9o"
      }
    },
    {
      "cell_type": "markdown",
      "source": [
        "- [Model Categories and Simplicial Methods](https://homepages.math.uic.edu/~bshipley/goerss.pdf) のExample 2.15 で　Simplical group の時のホモトピー群を定めます  一般の時も位相空間に関係なくSimiplical set の言葉で定義されて、ここで幾何学的実現で位相空間としてはCGHになりそのホモトピー群と同型になります。つまり、CGHのなすホモトピー群がSimplical set の言葉だけで位相を使わずに定義されたことになります。\n"
      ],
      "metadata": {
        "id": "SW_6yVcpx72W"
      }
    },
    {
      "cell_type": "markdown",
      "source": [
        "- 幾何学的実現が位相空間へ関手だったので（これって圏同値？）　これをスキームの圏に替えて、行くステップがICMのレクチャーです。ここではColimit が存在させるために前者はCGHを仮定しましたが、今回は米田埋め込みで　表現可能　PreSheaf つまりHom(-,X) として　そこで　特別なグロタンディーク位相をいれてそのsite でのSheaficationを行って、Colimitを持つようにします。で　Simplical Sheafを考えていきます。\n",
        "\n",
        "\n"
      ],
      "metadata": {
        "id": "jY2GS39bqMLB"
      }
    },
    {
      "cell_type": "markdown",
      "source": [
        "- さて、ここでいきなり、<br>http://pantodon.jp/index.rb?body=motivic_homotopy_theory#cite.0@Voevodsky1998<br>に飛んでみましょう。この立ち位置で位相空間を眺めた方が学生にとってもいいのかな。motivic homotopy theory ってひも理論とどうかかわるんだろう??"
      ],
      "metadata": {
        "id": "7GwzpVBrqman"
      }
    },
    {
      "cell_type": "markdown",
      "source": [
        "- ちなみに　少し準備した内容です。まだ途中です。　おそらく　「圏論によるトポロジー」の証明を読んでね、になりそうですがこの本に沿って、コンパクト開位相から始めます。Y^X というかHom（X,Y）に位相を入れる話で、具体例でやっていて、そこで例えばコンパクト性の性質の使い方などをちまちま補って書いておこうかなぁって考えてます。\n",
        "\n",
        "\n"
      ],
      "metadata": {
        "id": "z9FigkA9ubb5"
      }
    },
    {
      "cell_type": "markdown",
      "source": [
        "- たくさん位相の性質ならべるよりいいと思うので、使うのが一番！！　って話で。圏論的には　カーテシアン・クローズドな圏(Cartesian closed category) デカルト閉圏ともいわれますが、これにするには、位相にどんな要求するか---＞CGWH `ってはなしです。 豊穣圏にしたいわけですね。"
      ],
      "metadata": {
        "id": "Xlvi3-Y-u89Z"
      }
    },
    {
      "cell_type": "markdown",
      "source": [
        "- こういう話をしていると、Kotlionで関数型プログラミングを書く本として　[From Objects to Funcyions](https://pragprog.com/titles/uboop/from-objects-to-functions/) とその著者の[動画](https://www.youtube.com/watch?v=u9OAIwCXmdw)を思い出します。この中で　テストとしてDDT（Domain Driven　Test）という話のところです（大体　３章）。HubとPort に分けて考えるなど面白い話が張りますが、なんか同時並行でやってて、両者が関係してるような感覚におそわれます。。。<br>\n",
        "https://pragprog.com/titles/uboop/from-objects-to-functions/<br>\n",
        "https://www.youtube.com/watch?v=u9OAIwCXmdw"
      ],
      "metadata": {
        "id": "N-YBnhmFvPpa"
      }
    },
    {
      "cell_type": "markdown",
      "source": [
        "#2. ∞圏論から学ぼう！！\n",
        "\n"
      ],
      "metadata": {
        "id": "DKl9kC3LuHtq"
      }
    },
    {
      "cell_type": "markdown",
      "source": [
        "- https://emilyriehl.github.io/files/undergraduates.pdf<br>圏論を学ぶ上で、この記事は良い入門になると思います。記事はアメリカ数学会の学会誌Notice に掲載された記事で著者は　日経サイエンスで圏論の特集のときの記事の著者でもあります。実際そこでも、数学の特徴として、抽象化による単純化　について触れて、∞圏論という抽象化によって数学をより簡単に綺麗に見ようと勧めています。\n",
        "\n"
      ],
      "metadata": {
        "id": "CiPr7PB1zRi4"
      }
    },
    {
      "cell_type": "markdown",
      "source": [
        "- 今回の記事は「学部生に∞圏論は教えられるか？」というタイトルで圏論は学部生に教えられるので、圏論と∞圏論のギャップについて論じています。かなり似てる部分があるけど、かけ離れてる部分が例えば米田の補題あたりとかが典型例だとしています。これって圏論を学ぶときにどこがキーポイントかってことも言ってることになります。<br>https://www.youtube.com/watch?v=A6hXn6QCu0k"
      ],
      "metadata": {
        "id": "Pi9p6w92zeoI"
      }
    },
    {
      "cell_type": "markdown",
      "source": [
        "##2.1 Homotopy Type Theory"
      ],
      "metadata": {
        "id": "ZJ7W-7Y40K-B"
      }
    },
    {
      "cell_type": "markdown",
      "source": [
        "- https://emilyriehl.github.io/files/synthetic.pdf?fbclid=IwAR37j2FrkKqTCvWGQTd7GvK9-MX9MTPeKcCPin6-6Wh_2CMoYhyDdwkbLLo\n",
        "- https://uemurax.github.io/pdfs/hott-intro-ja.pdf?fbclid=IwAR3xGJR-6bFKxnu88RBTqnJdaghPIvM-_Aq3zovUe3e5woi9f-NmveneGwY"
      ],
      "metadata": {
        "id": "JqPe_lzT0Qq5"
      }
    }
  ]
}