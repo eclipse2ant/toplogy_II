{
  "nbformat": 4,
  "nbformat_minor": 0,
  "metadata": {
    "colab": {
      "provenance": [],
      "authorship_tag": "ABX9TyNhdbf1J10CdI9GKvQXrKvc",
      "include_colab_link": true
    },
    "kernelspec": {
      "name": "python3",
      "display_name": "Python 3"
    },
    "language_info": {
      "name": "python"
    }
  },
  "cells": [
    {
      "cell_type": "markdown",
      "metadata": {
        "id": "view-in-github",
        "colab_type": "text"
      },
      "source": [
        "<a href=\"https://colab.research.google.com/github/eclipse2ant/toplogy_II/blob/master/topology_II_10.ipynb\" target=\"_parent\"><img src=\"https://colab.research.google.com/assets/colab-badge.svg\" alt=\"Open In Colab\"/></a>"
      ]
    },
    {
      "cell_type": "markdown",
      "source": [
        "#9. $A^1-$ homotopy の続き"
      ],
      "metadata": {
        "id": "9Vq_TYAtNTOR"
      }
    },
    {
      "cell_type": "markdown",
      "source": [
        "- The main problem which prevents one from applying the constructions of abstract homotopy theory directly to the category Sm/S of smooth schemes over a base  S is nonexistence of colimits. In classical algebraic geometry this is known as nonexistence of “contractions”. One can solve this problem for particular types of contractions by extending the category to include nonsmooth varieties, algebraic spaces etc. For our purposes it is important to have all colimits which is not possible in any of these extended categories."
      ],
      "metadata": {
        "id": "-kMmjpo-4QEl"
      }
    },
    {
      "cell_type": "markdown",
      "source": [
        "Sm/S をスムーススキームの圏とすると問題点はcolimit が存在しないことで"
      ],
      "metadata": {
        "id": "ysgParuo5n2Y"
      }
    },
    {
      "cell_type": "markdown",
      "source": [
        "- There is a standard way to formally add colimits of all small diagrams to a category C. Consider the category of contravariant functors from C to the category of sets. Following Grothendieck one calls such functors presheaves on C. We denote the category of all presheaves by PreShv(C). Any object X of C defines a presheaf RX : Y \"→ HomC(Y, X) which is called the presheaf representable by X. By Yoneda Lemma the correspondence X \"→ RX identifies C with the subcategory of representable presheaves on C. The category PreShv(C) has all small colimits (and limits). Moreover any presheaf is the colimit of a canonical diagram of representable presheaves. Thus PreShv(C) is in a sense the categoryobtained from C by formal addition of all small colimits"
      ],
      "metadata": {
        "id": "VfMO2NnH6EIn"
      }
    },
    {
      "cell_type": "markdown",
      "source": [
        "これの標準的な解決法は C=Sm/S としたら、 $\\mathbf{Set^{C^{op}}}$ を考えること 論文の記号ではPreShv(C)です。つまりグロタンディークの意味での前層を考えることです"
      ],
      "metadata": {
        "id": "b67xTA6V6bVQ"
      }
    },
    {
      "cell_type": "markdown",
      "source": [
        "- まず、本の0.2.3 Natural Transformations and the Yoneda Lemma を見ましょう p.13 Yoneda embedding をみて下さい  $\\mathbf{Set^{C^{op}}}$. とは CからSet への 反変関手のなす圏です（射は自然変換）。ここで米田埋め込みでCが埋め込まれてるので、これで拡張してcolimit を持つようにするわけです。"
      ],
      "metadata": {
        "id": "SfmbQv2HLI-u"
      }
    },
    {
      "cell_type": "markdown",
      "source": [
        "- しかし、(2) が成り立たない。\n"
      ],
      "metadata": {
        "id": "9lJly99K8HX0"
      }
    },
    {
      "cell_type": "markdown",
      "source": [
        "- そこで Definition 2.2 で、Nisnevich topology というGrothendieck Topology を考えて、このサイトで層を考える 層を考えるということは、前層のfunctorなかで、層の条件を満たすFunctor だけに制限することであり、層の圏から前層への包含関手と層化の関手は随伴になる。この層 F に関して(6)が成り立つ。米田の補題で $Hom(X,F)\\cong F(X)$ だから(4)が成り立たないと  (4)に$Hom(－、F)$を施して、(6) が成り立たない。Proposion 2.4 の finite type がコンパクトの代用物というのは、まだ私にはピンときません。たぶんこの定理は スマッシュ積$\\wedge$ を定義する際に必要なんだと思います。"
      ],
      "metadata": {
        "id": "JnZb8dn_qC2x"
      }
    },
    {
      "cell_type": "markdown",
      "source": [
        "- 次はUnstable Homotopy を定義していく、つまりQuillen のモデル圏の構造を与える作業で。ここからはsimplical set の知識が必要なので、ここでは述べません。実際 simplical sheaf を構成していきます。"
      ],
      "metadata": {
        "id": "fBhJaibftkGJ"
      }
    }
  ]
}