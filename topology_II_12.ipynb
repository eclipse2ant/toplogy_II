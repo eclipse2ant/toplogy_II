{
  "nbformat": 4,
  "nbformat_minor": 0,
  "metadata": {
    "colab": {
      "provenance": [],
      "authorship_tag": "ABX9TyM9yWnmh4FMbvf1FQnt7hL1",
      "include_colab_link": true
    },
    "kernelspec": {
      "name": "python3",
      "display_name": "Python 3"
    },
    "language_info": {
      "name": "python"
    }
  },
  "cells": [
    {
      "cell_type": "markdown",
      "metadata": {
        "id": "view-in-github",
        "colab_type": "text"
      },
      "source": [
        "<a href=\"https://colab.research.google.com/github/eclipse2ant/toplogy_II/blob/master/topology_II_12.ipynb\" target=\"_parent\"><img src=\"https://colab.research.google.com/assets/colab-badge.svg\" alt=\"Open In Colab\"/></a>"
      ]
    },
    {
      "cell_type": "markdown",
      "source": [
        "#10. フェルマーの最終定理"
      ],
      "metadata": {
        "id": "9Vq_TYAtNTOR"
      }
    },
    {
      "cell_type": "markdown",
      "source": [
        "- 今回は前回の話に出てきたフェルマーの最終定理に寄り道しましょう。"
      ],
      "metadata": {
        "id": "fKyAX4g0pzN9"
      }
    },
    {
      "cell_type": "markdown",
      "source": [
        "PROPOSITION 8.3　DEFINITION 8.4"
      ],
      "metadata": {
        "id": "fwVXLcJgrhv-"
      }
    }
  ]
}