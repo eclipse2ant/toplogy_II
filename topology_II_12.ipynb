{
  "nbformat": 4,
  "nbformat_minor": 0,
  "metadata": {
    "colab": {
      "provenance": [],
      "authorship_tag": "ABX9TyNDxoN6HpmkM78oXn+9ca1d",
      "include_colab_link": true
    },
    "kernelspec": {
      "name": "python3",
      "display_name": "Python 3"
    },
    "language_info": {
      "name": "python"
    }
  },
  "cells": [
    {
      "cell_type": "markdown",
      "metadata": {
        "id": "view-in-github",
        "colab_type": "text"
      },
      "source": [
        "<a href=\"https://colab.research.google.com/github/eclipse2ant/toplogy_II/blob/master/topology_II_12.ipynb\" target=\"_parent\"><img src=\"https://colab.research.google.com/assets/colab-badge.svg\" alt=\"Open In Colab\"/></a>"
      ]
    },
    {
      "cell_type": "markdown",
      "source": [
        "#10. フェルマーの最終定理"
      ],
      "metadata": {
        "id": "9Vq_TYAtNTOR"
      }
    },
    {
      "cell_type": "markdown",
      "source": [
        "- 今回は前回の話に出てきたフェルマーの最終定理に寄り道しましょう。"
      ],
      "metadata": {
        "id": "fKyAX4g0pzN9"
      }
    },
    {
      "cell_type": "markdown",
      "source": [
        "- [Elliptic Curves](https://drive.google.com/file/d/1W5EAkcCaXw3JbPQUkN8ZNHT37TaWbpxe/view?usp=sharing) の\n",
        "PROPOSITION 8.3　DEFINITION 8.4  ページ 224(物理的ページは 232) が肝になります。フェルマーの最終定理の証明はまず 解が存在したとしたら、その解に対して、楕円曲線(elliptic curve) が存在します。　楕円曲線とは $\\ y^2=x^3+ax+b,\\ \\ (a,b \\in Q)\\ $  のようなぅ曲線です。一般に楕円曲線を$E$としたとき、$a,b$の最大公約数をかければ、$Z$上の式になります。この時 $mod\\ p$ ($p$ は素数) 考えた方程式を $E_p$ として、$Z_p$ つまり $Z/pZ$ での解の個数を $N_p(E)$ とすると $a_p= p+1-N_p(E)$ と定めると保形形式と呼ばれるポアンカレ上半平面$H=\\{z \\in C \\mid Im\\ z > 0 \\}$ 上の関数\n",
        "$f=\\sum c(n)q^n$ で 全ての素数$p$に対して、$c(p)=a_p$ をみたすものが存在する。かなりいい加減に述べましたがこの楕円曲線から保形関数への対応が谷山-Wel予想です。\n",
        "フェルマー最終定理の証明は、フェルマーの方程式の解があったらその解に対応する楕円曲線をこの対応で移した保形関数が存在するはずがないという矛盾から背理法で証明されます。で、谷山-Weil予想をワイルズが解いて、フェルマー予想が300年ぶりに証明されたのでした。"
      ],
      "metadata": {
        "id": "fwVXLcJgrhv-"
      }
    }
  ]
}