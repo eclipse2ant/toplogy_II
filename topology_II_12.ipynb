{
  "nbformat": 4,
  "nbformat_minor": 0,
  "metadata": {
    "colab": {
      "provenance": [],
      "authorship_tag": "ABX9TyNsolX/7IU0qUw6q0pLo7nn",
      "include_colab_link": true
    },
    "kernelspec": {
      "name": "python3",
      "display_name": "Python 3"
    },
    "language_info": {
      "name": "python"
    }
  },
  "cells": [
    {
      "cell_type": "markdown",
      "metadata": {
        "id": "view-in-github",
        "colab_type": "text"
      },
      "source": [
        "<a href=\"https://colab.research.google.com/github/eclipse2ant/toplogy_II/blob/master/topology_II_12.ipynb\" target=\"_parent\"><img src=\"https://colab.research.google.com/assets/colab-badge.svg\" alt=\"Open In Colab\"/></a>"
      ]
    },
    {
      "cell_type": "markdown",
      "source": [
        "#12. フェルマーの最終定理"
      ],
      "metadata": {
        "id": "9Vq_TYAtNTOR"
      }
    },
    {
      "cell_type": "markdown",
      "source": [
        "- 今回は前回の話に出てきたフェルマーの最終定理に寄り道しましょう。"
      ],
      "metadata": {
        "id": "fKyAX4g0pzN9"
      }
    },
    {
      "cell_type": "markdown",
      "source": [
        "- [Elliptic Curves](https://drive.google.com/file/d/1W5EAkcCaXw3JbPQUkN8ZNHT37TaWbpxe/view?usp=sharing) の\n",
        "PROPOSITION 8.3　DEFINITION 8.4  ページ 224(物理的ページは 232) が肝になります。フェルマーの最終定理の証明はまず 解が存在したとしたら、その解に対して、楕円曲線(elliptic curve) が存在します。　楕円曲線とは $\\ y^2=x^3+ax+b,\\ \\ (a,b \\in Q)\\ $  のようなぅ曲線です。一般に楕円曲線を$E$としたとき、$a,b$の最大公約数をかければ、$Z$上の式になります。この時 $mod\\ p$ ($p$ は素数) 考えた方程式を $E_p$ として、$Z/pZ$ での解の個数を $N_p(E)$ とすると $a_p= p+1-N_p(E)$ と定めると保形形式と呼ばれるポアンカレ上半平面$H=\\{z \\in C \\mid Im\\ z > 0 \\}$ 上の関数\n",
        "$f=\\sum c(n)q^n$ で 全ての素数$p$に対して、$c(p)=a_p$ をみたすものが存在する。かなりいい加減に述べましたがこの楕円曲線から保形関数への対応が谷山-Wel予想です。\n",
        "フェルマー最終定理の証明は、フェルマーの方程式の解があったらその解に対応する楕円曲線をこの対応で移した保形関数が存在するはずがないという矛盾から背理法で証明されます。で、谷山-Weil予想をワイルズが解いて、フェルマー予想が300年ぶりに証明されたのでした。"
      ],
      "metadata": {
        "id": "fwVXLcJgrhv-"
      }
    },
    {
      "cell_type": "markdown",
      "source": [
        "- [ワイルズの証明の概要](https://ja.wikipedia.org/wiki/%E3%83%AF%E3%82%A4%E3%83%AB%E3%82%BA%E3%81%AB%E3%82%88%E3%82%8B%E3%83%95%E3%82%A7%E3%83%AB%E3%83%9E%E3%83%BC%E3%81%AE%E6%9C%80%E7%B5%82%E5%AE%9A%E7%90%86%E3%81%AE%E8%A8%BC%E6%98%8E) およびその[英語版](https://en.wikipedia.org/wiki/Wiles%27s_proof_of_Fermat%27s_Last_Theorem) は非常によくできていると思います。今見るのは、ワイルズの証明の概要の欄です。まず第2部の保型性持ち上げ定理と [Elliptic Curves](https://drive.google.com/file/d/1W5EAkcCaXw3JbPQUkN8ZNHT37TaWbpxe/view?usp=sharing)のp.224(物理的ページは p.232) を比較してください。wiki の $p$ はp.224 では $l$ になり $l$ のモジュラー性からから$l^n$ のモジュラー性を導くことが保形性持ち上げで、これを変形理論を使って示す。その辺がp.225あたりに書かれてることですね\n"
      ],
      "metadata": {
        "id": "tFlyTpWxxiKr"
      }
    },
    {
      "cell_type": "markdown",
      "source": [
        "- さて、楕円曲線やその他いろんな概念をあまり説明していません、しかし、証明の筋道は理解できたと思います。p.224 ある$l$ の保形性から$l^n$ の保形性を導く（保形性リフト）には、オイラーシステムと岩沢理論、それとメイザーの変形理論を使う。ある$l$ で保形性が言えれば、リフトした保形性は テイト加群または [frenkel](https://arxiv.org/pdf/hep-th/0512172.pdf) の論文ではエタールコホモロジー $\\ H^{1}_{\\acute{et}}(E_{\\overline{Q}},Q_l)$ になり、Lefschetz の不動点定理から $Tr_{\\sigma_{E}}(Fr_p)= p + 1 - \\#E(F_p) = a_p$ でこれは$l$に依存しない。従って、ある$l$ で保形性が言えれば、すべての素数 $l$ で $l^n$ で保形性が示されることになる。"
      ],
      "metadata": {
        "id": "fn0hpZa35Stp"
      }
    },
    {
      "cell_type": "markdown",
      "source": [
        "- [Modular elliptic curves and Fermat’s Last Theorem](https://drive.google.com/file/d/1XfPTBdttRyuq2GOkA9JZzWf20zLHeqVk/view?usp=sharing)<br>[tailor-wiles](https://drive.google.com/file/d/18NU0GqPluTlMCJsDv8_V99-PWS4cRvIV/view?usp=sharing)<br> [フェルマー予想](https://www.amazon.co.jp/%E3%83%95%E3%82%A7%E3%83%AB%E3%83%9E%E3%83%BC%E4%BA%88%E6%83%B3-%E5%B2%A9%E6%B3%A2%E3%82%AA%E3%83%B3%E3%83%87%E3%83%9E%E3%83%B3%E3%83%89%E3%83%96%E3%83%83%E3%82%AF%E3%82%B9-%E6%96%8E%E8%97%A4-%E6%AF%85/dp/4007308586/ref=sr_1_1?__mk_ja_JP=%E3%82%AB%E3%82%BF%E3%82%AB%E3%83%8A&crid=34385H7E81X13&dib=eyJ2IjoiMSJ9.l05y06N67NR0WEOyB3dds32cR7-352DHf2OBuGsxwbkCDEJeRNoIlTZ_nWoOthaVbuE4e1V5Zf-_JDm96OfPeYZvLQeUyLRImftg6QzVxjjBSAqS2e8gbVMkV-kMU1KAH1Ou-3QbdlQo167nzOVADB5aUTtrlyxQuCGiih9F7b5TXS9ONrQd816UVCaJrJvn.pNXcpQiLBSDwH26yiB10nj1cpjAHdCR7yVSp5yQHyx4&dib_tag=se&keywords=%E3%83%95%E3%82%A7%E3%83%AB%E3%83%9E%E3%83%BC%E4%BA%88%E6%83%B3&qid=1710253573&sprefix=%E3%83%95%E3%82%A7%E3%83%AB%E3%83%9E%E3%83%BC%E4%BA%88%E6%83%B3%2Caps%2C174&sr=8-1)<br> の三つを残りの証明のために挙げておきます。\n"
      ],
      "metadata": {
        "id": "y_3pfWjqA_fH"
      }
    },
    {
      "cell_type": "markdown",
      "source": [
        "- 最初に棚上げした類体論との関係は、どこにあるのでしょうか？　不勉強でわからないことだらけですが、それについて述べてみます。"
      ],
      "metadata": {
        "id": "4I08xmh8EBwS"
      }
    }
  ]
}