{
  "nbformat": 4,
  "nbformat_minor": 0,
  "metadata": {
    "colab": {
      "provenance": [],
      "authorship_tag": "ABX9TyPEqPnjqK5smaGbrPjWYW8l",
      "include_colab_link": true
    },
    "kernelspec": {
      "name": "python3",
      "display_name": "Python 3"
    },
    "language_info": {
      "name": "python"
    }
  },
  "cells": [
    {
      "cell_type": "markdown",
      "metadata": {
        "id": "view-in-github",
        "colab_type": "text"
      },
      "source": [
        "<a href=\"https://colab.research.google.com/github/eclipse2ant/toplogy_II/blob/master/topology_II_6.ipynb\" target=\"_parent\"><img src=\"https://colab.research.google.com/assets/colab-badge.svg\" alt=\"Open In Colab\"/></a>"
      ]
    },
    {
      "cell_type": "markdown",
      "source": [
        "#5. The Compact-Open Topology"
      ],
      "metadata": {
        "id": "9Vq_TYAtNTOR"
      }
    },
    {
      "cell_type": "markdown",
      "source": [
        "やっと準備体操のところまで戻ってきました。"
      ],
      "metadata": {
        "id": "4PK8dJ1WJAZ-"
      }
    },
    {
      "cell_type": "markdown",
      "source": [
        "##5.1. 定義"
      ],
      "metadata": {
        "id": "ei1uvmZ8YMMl"
      }
    },
    {
      "cell_type": "markdown",
      "source": [
        "- Definition 5.4 です。ここで二つ用語が出てきます、Compact と subbasis です。Compact は調べてください。後者は集合族 $\\{S(K,U)\\}_{K,U}$ を含む一番粗い位相を考えろってことです。 subbasis の定義は p.19 にあります。"
      ],
      "metadata": {
        "id": "dbyCslUjGC9t"
      }
    },
    {
      "cell_type": "markdown",
      "source": [
        "- $K$ が有限集合$F$ のとき、有限集合はコンパクトですから、$F \\subset K$ でもっと粗い位相になりますがこれを Finite-Open Topology と呼ぶとすると、$\\mathbf{Top}(X,Y) = \\{f \\mid \\ f:X\\longrightarrow Y \\ continuous  \\} $ は $\\mathbf{Set}(X,Y)=\\{f \\mid \\ f:X\\longrightarrow Y \\} = \\{(y_x) \\mid \\ x \\in X,\\  y_x \\in Y \\} = \\prod_{x \\in X} Y $ ですから Finite-Open Topology は、積位相 $\\prod_{x \\in X} Y $ の部分位相を $\\mathbf{Top}(X,Y)$ に入れたことになります。この意味で  Finite-Open Topology を積位相 とこの本では言っています。実際 $X$ の位相が離散位相ならばすべての $f$ は連続ですから。積位相 $\\prod_{x \\in X} Y $ そのものです。"
      ],
      "metadata": {
        "id": "LfLJ5THV-VvP"
      }
    },
    {
      "cell_type": "markdown",
      "source": [
        "##5.2.  コンパクトについて"
      ],
      "metadata": {
        "id": "iQ7P0OZVu3BO"
      }
    },
    {
      "cell_type": "markdown",
      "source": [
        "-  ここでは先にコンパクトのいろいろな性質をあげておきます。細かい証明は、自分で調べてください。"
      ],
      "metadata": {
        "id": "6K5JccZ5vi2E"
      }
    },
    {
      "cell_type": "markdown",
      "source": [
        "- **<font color=\"red\">コンパクト空間上の連続関数は、最大値、最小値をもつ。</font>**\n",
        "\n",
        "    - これが一番よく使われますね。ここから積分がちゃんと値を持つことなどが出てきます\n",
        "    - この性質自体は、**<font color=\"red\">コンパクト空間の連続写像の像はコンパクト</font>** で実数の場合はハイネ・ボレルの定理から有界閉集合なので、最大値・最小値が存在します。"
      ],
      "metadata": {
        "id": "LAkD4xhQ_JWv"
      }
    },
    {
      "cell_type": "markdown",
      "source": [
        "- **<font color=\"red\">コンパクト空間上の連続関数は一様連続</font>**"
      ],
      "metadata": {
        "id": "2iJNoLIsMrzh"
      }
    },
    {
      "cell_type": "markdown",
      "source": [
        "- **<font color=\"red\">距離空間の場合、コンパクトは、点列コンパクト、あるいは、全有界＋完備 と同値</font>**"
      ],
      "metadata": {
        "id": "oYU7EGvYCRbI"
      }
    },
    {
      "cell_type": "markdown",
      "source": [
        "- **<font color=\"red\">コンパクト空間上の閉集合はコンパクト</font>**、また**<font color=\"red\">ハウスドルフ空間上のコンパクト部分集合は閉集合</font>**になります。"
      ],
      "metadata": {
        "id": "CaMBPCxhDGpo"
      }
    },
    {
      "cell_type": "markdown",
      "source": [
        "- **<font color=\"red\">チコノフの定理</font>**  $\\quad X_\\lambda : {\\text compact\\ for\\ all } \\ \\lambda \\in \\Lambda \\ \\Longrightarrow  \\   \\prod_{\\lambda \\in \\Lambda} X_\\lambda : \\text{compact } $"
      ],
      "metadata": {
        "id": "IsGuasYmDeZP"
      }
    },
    {
      "cell_type": "markdown",
      "source": [
        "-  **<font color=\"red\">局所コンパクト・ハウスドルフ空間は正規である</font>** それと  **<font color=\"red\">局所コンパクト・ハウスドルフ空間の一点コンパクト化</font>** も重要です。"
      ],
      "metadata": {
        "id": "Kooz1lhKHMPI"
      }
    },
    {
      "cell_type": "markdown",
      "source": [
        "##5.3. $X$ : compact $\\ Y$ : metric space の case"
      ],
      "metadata": {
        "id": "eeSgGbYVJcjQ"
      }
    },
    {
      "cell_type": "markdown",
      "source": [
        "- **Theorem 5.4** Let $X$ be compact and $Y$ be a metric space. The compact-open topology on $\\mathbf{Top}(X,Y)$ is the same as the metric topology"
      ],
      "metadata": {
        "id": "gYoOsLoLLP_Z"
      }
    }
  ]
}