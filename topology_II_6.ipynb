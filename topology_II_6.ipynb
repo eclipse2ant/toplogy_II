{
  "nbformat": 4,
  "nbformat_minor": 0,
  "metadata": {
    "colab": {
      "provenance": [],
      "authorship_tag": "ABX9TyNmkelubn8zIPwSYWGIRqhn",
      "include_colab_link": true
    },
    "kernelspec": {
      "name": "python3",
      "display_name": "Python 3"
    },
    "language_info": {
      "name": "python"
    }
  },
  "cells": [
    {
      "cell_type": "markdown",
      "metadata": {
        "id": "view-in-github",
        "colab_type": "text"
      },
      "source": [
        "<a href=\"https://colab.research.google.com/github/eclipse2ant/toplogy_II/blob/master/topology_II_6.ipynb\" target=\"_parent\"><img src=\"https://colab.research.google.com/assets/colab-badge.svg\" alt=\"Open In Colab\"/></a>"
      ]
    },
    {
      "cell_type": "markdown",
      "source": [
        "#5. The Compact-Open Topology"
      ],
      "metadata": {
        "id": "9Vq_TYAtNTOR"
      }
    },
    {
      "cell_type": "markdown",
      "source": [
        "やっと準備体操のところまで戻ってきました。"
      ],
      "metadata": {
        "id": "4PK8dJ1WJAZ-"
      }
    },
    {
      "cell_type": "markdown",
      "source": [
        "##5.1. 定義"
      ],
      "metadata": {
        "id": "ei1uvmZ8YMMl"
      }
    },
    {
      "cell_type": "markdown",
      "source": [
        "- Definition 5.4 です。ここで二つ用語が出てきます、Compact と subbasis です。Compact は調べてください。後者は集合族 $\\{S(K,U)\\}_{K,U}$ を含む一番粗い位相を考えろってことです。 subbasis の定義は p.19 にあります。"
      ],
      "metadata": {
        "id": "dbyCslUjGC9t"
      }
    },
    {
      "cell_type": "markdown",
      "source": [
        "- $K$ が有限集合$F$ のとき、有限集合はコンパクトですから、$F \\subset K$ でもっと粗い位相になりますがこれを Finite-Open Topology と呼ぶとすると、$\\mathbf{Top}(X,Y) = \\{f \\mid \\ f:X\\longrightarrow Y \\ continuous  \\} $ は $\\mathbf{Set}(X,Y)=\\{f \\mid \\ f:X\\longrightarrow Y \\} = \\{(y_x) \\mid \\ x \\in X,\\  y_x \\in Y \\} = \\prod_{x \\in X} Y $ ですから Finite-Open Topology は、積位相 $\\prod_{x \\in X} Y $ の部分位相を $\\mathbf{Top}(X,Y)$ に入れたことになります。この意味で  Finite-Open Topology を積位相 とこの本では言っています。実際 $X$ の位相が離散位相ならばすべての $f$ は連続ですから。積位相 $\\prod_{x \\in X} Y $ そのもです。"
      ],
      "metadata": {
        "id": "LfLJ5THV-VvP"
      }
    },
    {
      "cell_type": "markdown",
      "source": [
        "##5.2.  コンパクトについて"
      ],
      "metadata": {
        "id": "iQ7P0OZVu3BO"
      }
    },
    {
      "cell_type": "markdown",
      "source": [],
      "metadata": {
        "id": "6K5JccZ5vi2E"
      }
    }
  ]
}