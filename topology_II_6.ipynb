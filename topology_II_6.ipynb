{
  "nbformat": 4,
  "nbformat_minor": 0,
  "metadata": {
    "colab": {
      "provenance": [],
      "authorship_tag": "ABX9TyOIlAaMp8DxkHU1YOysGva3",
      "include_colab_link": true
    },
    "kernelspec": {
      "name": "python3",
      "display_name": "Python 3"
    },
    "language_info": {
      "name": "python"
    }
  },
  "cells": [
    {
      "cell_type": "markdown",
      "metadata": {
        "id": "view-in-github",
        "colab_type": "text"
      },
      "source": [
        "<a href=\"https://colab.research.google.com/github/eclipse2ant/toplogy_II/blob/master/topology_II_6.ipynb\" target=\"_parent\"><img src=\"https://colab.research.google.com/assets/colab-badge.svg\" alt=\"Open In Colab\"/></a>"
      ]
    },
    {
      "cell_type": "markdown",
      "source": [
        "#5. The Compact-Open Topology"
      ],
      "metadata": {
        "id": "9Vq_TYAtNTOR"
      }
    },
    {
      "cell_type": "markdown",
      "source": [
        "やっと準備体操のところまで戻ってきました。"
      ],
      "metadata": {
        "id": "4PK8dJ1WJAZ-"
      }
    },
    {
      "cell_type": "markdown",
      "source": [
        "##5.1. 定義"
      ],
      "metadata": {
        "id": "ei1uvmZ8YMMl"
      }
    },
    {
      "cell_type": "markdown",
      "source": [
        "- Definition 5.4 です。ここで二つ用語が出てきます、Compact と subbasis です。Compact は調べてください。後者は集合族 $\\{S(K,U)\\}_{K,U}$ を含む一番粗い位相を考えろってことです。 subbasis の定義は p.19 にあります。"
      ],
      "metadata": {
        "id": "dbyCslUjGC9t"
      }
    },
    {
      "cell_type": "markdown",
      "source": [
        "- $K$ が有限集合$F$ のとき、有限集合はコンパクトですから、$F \\subset K$ でもっと粗い位相になりますがこれを Finite-Open Topology と呼ぶとすると、$\\mathbf{Top}(X,Y) = \\{f \\mid \\ f:X\\longrightarrow Y \\ continuous  \\} $ は $\\mathbf{Set}(X,Y)=\\{f \\mid \\ f:X\\longrightarrow Y \\} = \\{(y_x) \\mid \\ x \\in X,\\  y_x \\in Y \\} = \\prod_{x \\in X} Y $ ですから Finite-Open Topology は、積位相 $\\prod_{x \\in X} Y $ の部分位相を $\\mathbf{Top}(X,Y)$ に入れたことになります。この意味で  Finite-Open Topology を積位相 とこの本では言っています。実際 $X$ の位相が離散位相ならばすべての $f$ は連続ですから。積位相 $\\prod_{x \\in X} Y $ そのものです。"
      ],
      "metadata": {
        "id": "LfLJ5THV-VvP"
      }
    },
    {
      "cell_type": "markdown",
      "source": [
        "##5.2.  コンパクトについて"
      ],
      "metadata": {
        "id": "iQ7P0OZVu3BO"
      }
    },
    {
      "cell_type": "markdown",
      "source": [
        "-  ここでは先にコンパクトのいろいろな性質をあげておきます。細かい証明は、自分で調べてください。"
      ],
      "metadata": {
        "id": "6K5JccZ5vi2E"
      }
    },
    {
      "cell_type": "markdown",
      "source": [
        "- **<font color=\"red\">コンパクト空間上の連続関数は、最大値、最小値をもつ。</font>**\n",
        "\n",
        "    - これが一番よく使われますね。ここから積分がちゃんと値を持つことなどが出てきます\n",
        "    - この性質自体は、**<font color=\"red\">コンパクト空間の連続写像の像はコンパクト</font>** で実数の場合はハイネ・ボレルの定理から有界閉集合なので、最大値・最小値が存在します。"
      ],
      "metadata": {
        "id": "LAkD4xhQ_JWv"
      }
    },
    {
      "cell_type": "markdown",
      "source": [
        "- **<font color=\"red\">コンパクト空間上の連続関数は一様連続</font>**"
      ],
      "metadata": {
        "id": "2iJNoLIsMrzh"
      }
    },
    {
      "cell_type": "markdown",
      "source": [
        "- **<font color=\"red\">距離空間の場合、コンパクトは、点列コンパクト、あるいは、全有界＋完備 と同値</font>**"
      ],
      "metadata": {
        "id": "oYU7EGvYCRbI"
      }
    },
    {
      "cell_type": "markdown",
      "source": [
        "- **<font color=\"red\">コンパクト空間上の閉集合はコンパクト</font>**、また**<font color=\"red\">ハウスドルフ空間上のコンパクト部分集合は閉集合</font>**になります。"
      ],
      "metadata": {
        "id": "CaMBPCxhDGpo"
      }
    },
    {
      "cell_type": "markdown",
      "source": [
        "- **<font color=\"red\">チコノフの定理</font>**  $\\quad X_\\lambda : {\\text compact\\ for\\ all } \\ \\lambda \\in \\Lambda \\ \\Longrightarrow  \\   \\prod_{\\lambda \\in \\Lambda} X_\\lambda : \\text{compact } $"
      ],
      "metadata": {
        "id": "IsGuasYmDeZP"
      }
    },
    {
      "cell_type": "markdown",
      "source": [
        "-  **<font color=\"red\">局所コンパクト・ハウスドルフ空間は正規である</font>** それと  **<font color=\"red\">局所コンパクト・ハウスドルフ空間の一点コンパクト化</font>** も重要です。"
      ],
      "metadata": {
        "id": "Kooz1lhKHMPI"
      }
    },
    {
      "cell_type": "markdown",
      "source": [
        "##5.3. $X$ : compact $\\ Y$ : metric space の case"
      ],
      "metadata": {
        "id": "eeSgGbYVJcjQ"
      }
    },
    {
      "cell_type": "markdown",
      "source": [
        "- **Theorem 5.4** Let $X$ be compact and $Y$ be a metric space. The compact-open topology on $\\mathbf{Top}(X,Y)$ is the same as the metric topology"
      ],
      "metadata": {
        "id": "gYoOsLoLLP_Z"
      }
    },
    {
      "cell_type": "markdown",
      "source": [
        "- 距離空間の定義はExample 0.2 にあります。$d(f,g):=\\mathbb{sup}_{x \\in X}d(fx,fy)$ で $f$ と $g$ の距離を定めています。$d(f-,f-): X \\times X : \\longrightarrow R$ は連続で  $X \\times X$ はコンパクトだから、最大値を持ちます。**Theorem 5.4** の証明は本の通り、5.2で書いた性質と $\\varepsilon-\\delta$ 論法を使ってます。ただし $\\delta$ は出てきませんが。"
      ],
      "metadata": {
        "id": "OqzJo6i_QLSf"
      }
    },
    {
      "cell_type": "markdown",
      "source": [
        "##5.4. Cartesian Closed Categories"
      ],
      "metadata": {
        "id": "mHyA9rabkKJJ"
      }
    },
    {
      "cell_type": "markdown",
      "source": [
        "- **Theorem 5.5**  For any spaces X and Y, the compact-open topology on Top(X; Y) is splitting."
      ],
      "metadata": {
        "id": "zsFRnwGoC31p"
      }
    },
    {
      "cell_type": "markdown",
      "source": [
        "- **Theorem 5.6** If X is locally compact and Hausdorff and Y is any space, then the compactopen topology on Top(X; Y) is exponential."
      ],
      "metadata": {
        "id": "Okfw-29YDCpK"
      }
    },
    {
      "cell_type": "markdown",
      "source": [
        "-  Here, we present a bird’s eye view of constructing a topology on Top(X; Y) in a moregeneral setting. The main idea is to find a “convenient category” of topological spaces which has limits and colimits, has exponential objects with the desirable property listed\n",
        "in section 5.6, and is large enough to contain the spaces we care about. The category\n",
        "of compactly generated weakly Hausdorff spaces is such a category. The importance of\n",
        "compactly generated spaces for topologies on function spaces was recognized early on\n",
        "by Brown (1964). A categorical perspective along the lines we present here, including\n",
        "the behavior of compactly generated spaces under limits, occurred later (Steenrod, 1967).\n",
        "Finally, Hausdorff was replaced with weakly Hausdorff yielding what is often considered\n",
        "the most convenient category of topological spaces (McCord, 1969).\n",
        "Be aware that the terminology is not used consistently in the literature. For example,\n",
        "“compactly generated” in May (1999) means what we call “compactly generated and weak\n",
        "Hausdorff.” Here we err on over-adjectivized terminology in an effort to avoid any confusion, especially since we omit most of the proofs. We’ll start with a few definitions. (ここでは、より一般的な設定でTop(X; Y)上に位相を構築する方法について、鳥瞰図を提示します。主な考え方は、「便利な圏」の位相空間を見つけることであり、これは極限と余極限を持ち、セクション5.6で挙げられた望ましい特性を持つ指数対象を持ち、かつ私たちが関心を持つ空間を含むのに十分大きいものです。コンパクト生成された弱ハウスドルフ空間の圏は、そのような圏です。関数空間の位相に対するコンパクト生成空間の重要性は、早くもブラウン（1964）によって認識されました。ここで提示するような線に沿った圏論的視点、特に極限の下でのコンパクト生成空間の振る舞いは、後に発生しました（スティーンロッド、1967）。最終的に、ハウスドルフは弱ハウスドルフに置き換えられ、しばしば位相空間の最も便利な圏と考えられるものになりました（マッコード、1969）。)"
      ],
      "metadata": {
        "id": "n0pdeLf1DyV5"
      }
    },
    {
      "cell_type": "markdown",
      "source": [
        "###5.4.1. Compactly Generated Weakly Hausdorff Spaces"
      ],
      "metadata": {
        "id": "nQ1XFYwoRdzP"
      }
    },
    {
      "cell_type": "markdown",
      "source": [
        "- $X, Y, Z$ が Compactly Generated Weakly Hausdorff Spaces"
      ],
      "metadata": {
        "id": "I_MVpfP-aygm"
      }
    },
    {
      "cell_type": "markdown",
      "source": [
        "  1. The functor $\\ - \\times X$ preserves colimits.  \n",
        "  1. The functor $\\ -^X $ preserves limits.  \n",
        "  1. The functor $\\ Y^{-}\\ $takes colimits to limits.  \n",
        "  1. Composition $Z^Y \\times  Y^X \\longrightarrow  Z^X$ is continuous.  \n",
        "  1. Evaluation eval: $X \\times Y^X \\longrightarrow  Y $ is continuous  \n"
      ],
      "metadata": {
        "id": "hyISxbvxWDH9"
      }
    },
    {
      "cell_type": "markdown",
      "source": [
        "を満たすとき、Cartesian Closed Categories (カーテシィアン・クローズド圏　または デカルト閉圏) と言います。従って、CGWH は デカルト閉圏です。"
      ],
      "metadata": {
        "id": "jjo1CnHBZ9sH"
      }
    },
    {
      "cell_type": "markdown",
      "source": [],
      "metadata": {
        "id": "ZUeU8Umlad2o"
      }
    }
  ]
}