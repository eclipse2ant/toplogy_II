{
  "nbformat": 4,
  "nbformat_minor": 0,
  "metadata": {
    "colab": {
      "provenance": [],
      "authorship_tag": "ABX9TyM46LMAyOKMsAxkJ8TzIx21",
      "include_colab_link": true
    },
    "kernelspec": {
      "name": "python3",
      "display_name": "Python 3"
    },
    "language_info": {
      "name": "python"
    }
  },
  "cells": [
    {
      "cell_type": "markdown",
      "metadata": {
        "id": "view-in-github",
        "colab_type": "text"
      },
      "source": [
        "<a href=\"https://colab.research.google.com/github/eclipse2ant/toplogy_II/blob/master/topology_II_6.ipynb\" target=\"_parent\"><img src=\"https://colab.research.google.com/assets/colab-badge.svg\" alt=\"Open In Colab\"/></a>"
      ]
    },
    {
      "cell_type": "markdown",
      "source": [
        "#5. The Compact-Open Topology"
      ],
      "metadata": {
        "id": "9Vq_TYAtNTOR"
      }
    },
    {
      "cell_type": "markdown",
      "source": [
        "やっと準備体操のところまで戻ってきました。"
      ],
      "metadata": {
        "id": "4PK8dJ1WJAZ-"
      }
    },
    {
      "cell_type": "markdown",
      "source": [
        "##5.1. 定義"
      ],
      "metadata": {
        "id": "ei1uvmZ8YMMl"
      }
    },
    {
      "cell_type": "markdown",
      "source": [
        "- Definition 5.4 です。ここで二つ用語が出てきます、Compact と subbasis です。Compact は調べてください。後者は集合族 $\\{S(K,U)\\}_{K,U}$ を含む一番粗い位相を考えろってことです。 subbasis の定義は p.19 にあります。"
      ],
      "metadata": {
        "id": "dbyCslUjGC9t"
      }
    }
  ]
}