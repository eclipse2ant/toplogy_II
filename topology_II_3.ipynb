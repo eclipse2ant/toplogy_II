{
  "nbformat": 4,
  "nbformat_minor": 0,
  "metadata": {
    "colab": {
      "provenance": [],
      "authorship_tag": "ABX9TyOQ6GyvI7JG+Z6Rw8Nor+mi",
      "include_colab_link": true
    },
    "kernelspec": {
      "name": "python3",
      "display_name": "Python 3"
    },
    "language_info": {
      "name": "python"
    }
  },
  "cells": [
    {
      "cell_type": "markdown",
      "metadata": {
        "id": "view-in-github",
        "colab_type": "text"
      },
      "source": [
        "<a href=\"https://colab.research.google.com/github/eclipse2ant/toplogy_II/blob/master/topology_II_3.ipynb\" target=\"_parent\"><img src=\"https://colab.research.google.com/assets/colab-badge.svg\" alt=\"Open In Colab\"/></a>"
      ]
    },
    {
      "cell_type": "markdown",
      "source": [
        "#3. 準備体操"
      ],
      "metadata": {
        "id": "ei1uvmZ8YMMl"
      }
    },
    {
      "cell_type": "markdown",
      "source": [
        "- 位相というシンプルな３つ（または言い方によっては2つ）条件さえ満たせば、何でもよいので、集合$X$ に対していくつでも存在します。ここでは実際作ってみましょう。何でもいいわけではなく、いい性質のものを作りたいのです。その性質を記述するのに圏論が適しているというわけです。"
      ],
      "metadata": {
        "id": "riuzfdSEeuUV"
      }
    },
    {
      "cell_type": "markdown",
      "source": [
        "- まず、位相空間の圏 $\\mathbf{Top}$ を考えましょう。対象が位相空間で、射が連続写像です。連続写像とは、開集合の逆像が開集合になる写像のことでした。今、位相空間$X,Y$ に対し、その射の空間を$\\mathbf{Top}(X,Y)$ としましょう。この空間に位相を入れることを考えます。ここで、どういう性質を満たしたいかというと、Zを任意の位相空間として\n",
        "$$\\mathbf{Top}(X\\times Z,Y)\\cong \\mathbf{Top}(Z,\\mathbf{Top}(X,Y))$$\n",
        "  という性質です。これは　固定された位相空間$X$ に対し、\n",
        "$$X\\times -:\\mathbf{Top}→\\mathbf{Top} \\quad \\text{と}\\quad \\mathbf{Top}(X,-):\\mathbf{Top}→\\mathbf{Top}　\\tag{1}$$\n",
        "  という関手が随伴になっている（左随伴関手、右随伴関手）ことを要求したいわけです。"
      ],
      "metadata": {
        "id": "SW_6yVcpx72W"
      }
    },
    {
      "cell_type": "markdown",
      "source": [
        "- ここで 5.6 を見てください。Exponential Toplogy 　が冪位相で満たすべき性質がDesired Propertyです。この性質を満たす位相は一意になります。"
      ],
      "metadata": {
        "id": "5jj0kylRRlRH"
      }
    },
    {
      "cell_type": "markdown",
      "source": [
        "- そこでまず 5.1 Adjunction を見てください。随伴の一般の場合の定義が書かれてます。注意して欲しいのは、(1) において、位相を考えない場合、つまり集合の圏では、随伴になっています。"
      ],
      "metadata": {
        "id": "HzKVBtSQS6k2"
      }
    },
    {
      "cell_type": "markdown",
      "source": [
        "- ここでは、Lemma 5.1 の前に書かれてる splitting とconjoining に注意してください。またLemma 5.2 は splitting 位相は はconjoining な位相より粗いことが示されてます。（位相が粗い、細かいについては自分で調べてください）\n",
        ""
      ],
      "metadata": {
        "id": "Q77YZnLJWCIp"
      }
    }
  ]
}