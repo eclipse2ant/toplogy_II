{
  "nbformat": 4,
  "nbformat_minor": 0,
  "metadata": {
    "colab": {
      "provenance": [],
      "authorship_tag": "ABX9TyPufMW1EFe/p4eVu6LefSBO",
      "include_colab_link": true
    },
    "kernelspec": {
      "name": "python3",
      "display_name": "Python 3"
    },
    "language_info": {
      "name": "python"
    }
  },
  "cells": [
    {
      "cell_type": "markdown",
      "metadata": {
        "id": "view-in-github",
        "colab_type": "text"
      },
      "source": [
        "<a href=\"https://colab.research.google.com/github/eclipse2ant/toplogy_II/blob/master/topology_II_5.ipynb\" target=\"_parent\"><img src=\"https://colab.research.google.com/assets/colab-badge.svg\" alt=\"Open In Colab\"/></a>"
      ]
    },
    {
      "cell_type": "markdown",
      "source": [
        "#5. Examples and Constructions"
      ],
      "metadata": {
        "id": "9Vq_TYAtNTOR"
      }
    },
    {
      "cell_type": "markdown",
      "source": [
        "##5.1. Introduction\n",
        "  "
      ],
      "metadata": {
        "id": "ei1uvmZ8YMMl"
      }
    },
    {
      "cell_type": "markdown",
      "source": [
        "- 圏論的な極限、余極限について、ここでは学びます。ここでは、遊びがてら、ChatGPTに訳させてみましょう。"
      ],
      "metadata": {
        "id": "dbyCslUjGC9t"
      }
    },
    {
      "cell_type": "markdown",
      "source": [
        "\n",
        "カテゴリーの極限と余極限は、古い数学的対象から新しい対象を構築する方法の中で、最も効率的な方法の一つであり、ある意味では最も効率的な方法です。第1章で紹介された構築物—部分空間、商空間、積、余積—はTopの例ですが、この議論はどんなカテゴリーにおいても行われます。実際、プッシュアウト、プルバック、直接極限など、他にも多くの重要な構築物がありますので、一般的な概念を学ぶことが有益です。実際には、極限は通常、何らかの制約に従って部分集合を選ぶことによって構築されるのに対し、余極限は通常、「接着」によって対象を結合することによって構築されます。より形式的には、極限の定義特性は、そのドメインが極限である射によって特徴づけられます。余極限の定義特性は、そのコドメインが余極限である射によって特徴づけられます。その一般性のため、極限と余極限は数学的な風景全体にわたって現れます。アーベル群の直和、順序集合の最小上界、CW複体はすべて極限または余極限の例であり、これからのページでさらに多くの例を見ることになります。第4.1節は、「何の（余）極限か？」という予想される質問に答えることで章を開きます。残りの2節は、（余）極限の形式的定義と例の紹介を含んでいます。\n"
      ],
      "metadata": {
        "id": "PBB-gbMCJAHr"
      }
    },
    {
      "cell_type": "markdown",
      "source": [
        "##5.2. Diagrams Are Functors"
      ],
      "metadata": {
        "id": "KE3Z4-NqvWhU"
      }
    },
    {
      "cell_type": "markdown",
      "source": [
        "- 4.1 に書かれてるように、In topology, one asks for the limit of a sequence. In category theory, one asks for the (co)limit of a diagram. In what follows, it will be helpful to view a diagram as a functor.\n",
        "\n",
        "- $C$ という圏の射のダイアグラムがあったら、その点と矢印だけにして、圏 $D$ を作り、射のダイアグラムを$D$ から $C$ への関手 $F$ として考えます。もう一方で $A$ を圏 $C$ の対象として $D$ から`$C$ への関手として、すべての $D$ の対象を $A$ にまた $D$ の射を $id_A$ という $A$ の恒等射に移す関手を $A$ と表すと、Definition 4.2 にあるように、$\\rm{Nat}(A,F)$ の元つまり、$A$ から $F$ への自然変換を a cone from $A$ to $F$, $\\rm{Nat}(F,A)$ の元つまり、$F$ から $A$ への自然変換を a cone from $F$ to $A$ と言います。cone は日本語で錐でしょうか。\n",
        "\n"
      ],
      "metadata": {
        "id": "Oq9FWnQ8vkrM"
      }
    },
    {
      "cell_type": "markdown",
      "source": [
        "##5.3. Limits and Colimits"
      ],
      "metadata": {
        "id": "d-9tnNG-0Mtk"
      }
    },
    {
      "cell_type": "markdown",
      "source": [
        "- 4.2に書かれてるように、Limit と Colimit を定義します。そして次の 4.3 で説明される 終対象（Terminal object) 始対象(Initial object) を使うと、cone 自体を対象と見て $h$ を射とみることで LiImit をTerminal object Colimit を Initial object として定義することもできます。"
      ],
      "metadata": {
        "id": "e8JT7CAT082d"
      }
    },
    {
      "cell_type": "markdown",
      "source": [
        "##5.4. Terminal Objects and Initial Objects"
      ],
      "metadata": {
        "id": "1WSNPaqo5Cqt"
      }
    },
    {
      "cell_type": "markdown",
      "source": [
        "- 定義は 4.3.1 に書かれてる通りです。普遍性を通して、随伴、(余)極限、終対象（始対象) は互いに移りあうことができます。対象、射、関手も Yoneda lemma などを通して、互いに移りあうことができます。この辺が圏論のすごさです。このあたりはマクレーンの本（圏論の基礎）を見てください\n",
        "\n"
      ],
      "metadata": {
        "id": "j2DBYa9v5VTE"
      }
    },
    {
      "cell_type": "markdown",
      "source": [
        "- **<font color=\"red\">随伴、(余)極限、終対象（始対象) 存在性は必ずしも保証されてないことに注意してください。</font>**\n",
        "\n"
      ],
      "metadata": {
        "id": "vG-3VkbF7FH1"
      }
    }
  ]
}