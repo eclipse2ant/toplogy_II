{
  "nbformat": 4,
  "nbformat_minor": 0,
  "metadata": {
    "colab": {
      "provenance": [],
      "authorship_tag": "ABX9TyOniwBblGEsp0wCCEbK3ITZ",
      "include_colab_link": true
    },
    "kernelspec": {
      "name": "python3",
      "display_name": "Python 3"
    },
    "language_info": {
      "name": "python"
    }
  },
  "cells": [
    {
      "cell_type": "markdown",
      "metadata": {
        "id": "view-in-github",
        "colab_type": "text"
      },
      "source": [
        "<a href=\"https://colab.research.google.com/github/eclipse2ant/toplogy_II/blob/master/topology_II_5.ipynb\" target=\"_parent\"><img src=\"https://colab.research.google.com/assets/colab-badge.svg\" alt=\"Open In Colab\"/></a>"
      ]
    },
    {
      "cell_type": "markdown",
      "source": [
        "#5. Examples and Constructions II"
      ],
      "metadata": {
        "id": "9Vq_TYAtNTOR"
      }
    },
    {
      "cell_type": "markdown",
      "source": [
        "##5.1. Introduction\n",
        "  "
      ],
      "metadata": {
        "id": "ei1uvmZ8YMMl"
      }
    },
    {
      "cell_type": "markdown",
      "source": [
        "- 圏論的な極限、余極限について、ここでは学びます。ここでは、遊びがてら、ChatGPTに訳させてみましょう。"
      ],
      "metadata": {
        "id": "dbyCslUjGC9t"
      }
    },
    {
      "cell_type": "markdown",
      "source": [
        "\n",
        "カテゴリーの極限と余極限は、古い数学的対象から新しい対象を構築する方法の中で、最も効率的な方法の一つであり、ある意味では最も効率的な方法です。第1章で紹介された構築物—部分空間、商空間、積、余積—はTopの例ですが、この議論はどんなカテゴリーにおいても行われます。実際、プッシュアウト、プルバック、直接極限など、他にも多くの重要な構築物がありますので、一般的な概念を学ぶことが有益です。実際には、極限は通常、何らかの制約に従って部分集合を選ぶことによって構築されるのに対し、余極限は通常、「接着」によって対象を結合することによって構築されます。より形式的には、極限の定義特性は、そのドメインが極限である射によって特徴づけられます。余極限の定義特性は、そのコドメインが余極限である射によって特徴づけられます。その一般性のため、極限と余極限は数学的な風景全体にわたって現れます。アーベル群の直和、順序集合の最小上界、CW複体はすべて極限または余極限の例であり、これからのページでさらに多くの例を見ることになります。第4.1節は、「何の（余）極限か？」という予想される質問に答えることで章を開きます。残りの2節は、（余）極限の形式的定義と例の紹介を含んでいます。\n"
      ],
      "metadata": {
        "id": "PBB-gbMCJAHr"
      }
    },
    {
      "cell_type": "markdown",
      "source": [
        "##5.2. Diagrams Are Functors"
      ],
      "metadata": {
        "id": "KE3Z4-NqvWhU"
      }
    },
    {
      "cell_type": "markdown",
      "source": [
        "- 4.1 に書かれてるように、In topology, one asks for the limit of a sequence. In category theory, one asks for the (co)limit of a diagram. In what follows, it will be helpful to view a diagram as a functor.\n",
        "\n",
        "- $C$ という圏の射のダイアグラムがあったら、その点と矢印だけにして、圏 $D$ を作り、射のダイアグラムを$D$ から $C$ への関手 $F$ として考えます。もう一方で $A$ を圏 $C$ の対象として $D$ から`$C$ への関手として、すべての $D$ の対象を $A$ にまた $D$ の射を $id_A$ という $A$ の恒等射に移す関手を $A$ と表すと、Definition 4.2 にあるように、$\\rm{Nat}(A,F)$ の元つまり、$A$ から $F$ への自然変換を a cone from $A$ to $F$, $\\rm{Nat}(F,A)$ の元つまり、$F$ から $A$ への自然変換を a cone from $F$ to $A$ と言います。cone は日本語で錐でしょうか。\n",
        "\n"
      ],
      "metadata": {
        "id": "Oq9FWnQ8vkrM"
      }
    },
    {
      "cell_type": "markdown",
      "source": [
        "##5.3. Limits and Colimits"
      ],
      "metadata": {
        "id": "d-9tnNG-0Mtk"
      }
    },
    {
      "cell_type": "markdown",
      "source": [
        "- 4.2に書かれてるように、Limit と Colimit を定義します。そして次の 4.3 で説明される 終対象（Terminal object) 始対象(Initial object) を使うと、cone 自体を対象と見て $h$ を射とみることで LiImit をTerminal object Colimit を Initial object として定義することもできます。"
      ],
      "metadata": {
        "id": "e8JT7CAT082d"
      }
    },
    {
      "cell_type": "markdown",
      "source": [
        "##5.4. Terminal Objects and Initial Objects"
      ],
      "metadata": {
        "id": "1WSNPaqo5Cqt"
      }
    },
    {
      "cell_type": "markdown",
      "source": [
        "- 定義は 4.3.1 に書かれてる通りです。普遍性を通して、随伴、(余)極限、終対象（始対象) は互いに移りあうことができます。対象、射、関手も Yoneda lemma などを通して、互いに移りあうことができます。この辺が圏論のすごさです。このあたりはマクレーンの本（圏論の基礎）を見てください\n",
        "\n"
      ],
      "metadata": {
        "id": "j2DBYa9v5VTE"
      }
    },
    {
      "cell_type": "markdown",
      "source": [
        "- **<font color=\"red\">随伴、(余)極限、終対象（始対象) の存在性は必ずしも保証されてないことに注意してください。</font>**\n",
        "\n"
      ],
      "metadata": {
        "id": "vG-3VkbF7FH1"
      }
    },
    {
      "cell_type": "markdown",
      "source": [
        "##5.5. Products and Coproducts,  Pullbacks and Pushouts, Inverse and Direct Limits, Equalizers and Coequalizers"
      ],
      "metadata": {
        "id": "mGMyuML2-OQm"
      }
    },
    {
      "cell_type": "markdown",
      "source": [
        "- D を取り替えることでいろいろ定義できます。つまり圏論を使うと数学で今まで学んだいろんな定義が(余)極限 として表されることに感激してください。線形空間の圏などのアーベル圏では、イコライザー・コイコライザーでどちらか一方の射を0-写像するとKer, Coker になることに注意してください。"
      ],
      "metadata": {
        "id": "bkX1V1R3-7IF"
      }
    },
    {
      "cell_type": "markdown",
      "source": [
        "##5.6. Completeness and Cocompleteness"
      ],
      "metadata": {
        "id": "KCZRcFjkAEkF"
      }
    },
    {
      "cell_type": "markdown",
      "source": [
        "- A category is called complete if it contains the limits of small diagrams and is called cocomplete if it contains the colimits of all small diagrams.1 The categories Set and Top are\n",
        "both complete and cocomplete. In Set, one can construct the colimit of any diagram by\n",
        "taking the disjoint union of every set in the diagram and then quotienting by the relations\n",
        "required for the diagram to map into the resulting set. In Top, this set gets the quotient\n",
        "topology of the disjoint union. This topology is the finest topology for which all the maps\n",
        "involved in the map from the diagram are continuous.\n",
        "Dually, to construct the limit of any diagram of sets, first take the product of all the sets\n",
        "that appear in the diagram. The product then maps to all objects in the diagram. The limit\n",
        "of the diagram is simply the subset of the product so that the projection maps to the objects\n",
        "assemble to be a map to the diagram. In Top, this set gets the subspace topology of the\n",
        "product. This topology is the coarsest topology for which all the maps involved in the map\n",
        "to the diagram are continuous.\n",
        "Seeing how to define an arbitrary colimit of sets as a quotient of the disjoint union or\n",
        "how to define an arbitrary limit as a subspace of the product gives the idea of how to prove\n",
        "the following theorem: small (co)limits are all “generated by” a set’s worth of (co)products\n",
        "and (co)equalizers."
      ],
      "metadata": {
        "id": "e-hW4lrtAVEF"
      }
    },
    {
      "cell_type": "markdown",
      "source": [
        "- ChatGPT に訳してもらうと\n",
        "\n",
        "ある圏が小さい図の極限を含む場合、その圏は完全であると言われ、すべての小さい図の余極限を含む場合、余完全であると言われます。Set（集合の圏）とTop（位相空間の圏）は両方とも完全かつ余完全です。Setでは、任意の図の余極限を、図中のすべての集合の非交和を取り、結果として得られる集合への図の写像に必要な関係によって商を取ることによって構築できます。Topでは、この集合は非交和の商位相を得ます。この位相は、図からの写像に関与するすべての写像が連続であるような最も細かい位相です。\n",
        "\n",
        "逆に、集合の図の任意の極限を構築するには、まず図に現れるすべての集合の積を取ります。積はその後、図内のすべての対象へと写像します。図の極限は、対象への射影写像が図への写像であるように集まる積の部分集合に過ぎません。Topでは、この集合は積の部分空間位相を得ます。この位相は、図への写像に関与するすべての写像が連続であるような最も粗い位相です。\n",
        "\n",
        "集合の任意の余極限を非交和の商として、または任意の極限を積の部分空間として定義する方法を見ることは、以下の定理を証明する方法のアイデアを与えます：小さい(余)極限はすべて、「集合の価値の(余)積と(余)等化子によって生成される」。"
      ],
      "metadata": {
        "id": "dahmEPS4BNDP"
      }
    },
    {
      "cell_type": "markdown",
      "source": [
        "- ここで出てくる\"小さい\" という言葉は small category の意味です。この定義については、自分で調べてください。"
      ],
      "metadata": {
        "id": "8p_HZMl0BiIP"
      }
    },
    {
      "cell_type": "markdown",
      "source": [
        "- **<font color=\"red\">Theorem 4.1 If a category has products and equalizers, then it is complete. If it has coproducts and coequalizers, then it is cocomplete.</font>**"
      ],
      "metadata": {
        "id": "iWtZr_mfALcl"
      }
    }
  ]
}