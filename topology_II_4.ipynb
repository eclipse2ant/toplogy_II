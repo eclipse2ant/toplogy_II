{
  "nbformat": 4,
  "nbformat_minor": 0,
  "metadata": {
    "colab": {
      "provenance": [],
      "authorship_tag": "ABX9TyMpgaZt8UKllo1gfwlkxTnU",
      "include_colab_link": true
    },
    "kernelspec": {
      "name": "python3",
      "display_name": "Python 3"
    },
    "language_info": {
      "name": "python"
    }
  },
  "cells": [
    {
      "cell_type": "markdown",
      "metadata": {
        "id": "view-in-github",
        "colab_type": "text"
      },
      "source": [
        "<a href=\"https://colab.research.google.com/github/eclipse2ant/toplogy_II/blob/master/topology_II_4.ipynb\" target=\"_parent\"><img src=\"https://colab.research.google.com/assets/colab-badge.svg\" alt=\"Open In Colab\"/></a>"
      ]
    },
    {
      "cell_type": "markdown",
      "source": [
        "#4. Examples and Constructions"
      ],
      "metadata": {
        "id": "9Vq_TYAtNTOR"
      }
    },
    {
      "cell_type": "markdown",
      "source": [
        "##4.1. Subspace Topology, Quotient Topology, Product Topology, Coproduct Toplogy  "
      ],
      "metadata": {
        "id": "ei1uvmZ8YMMl"
      }
    },
    {
      "cell_type": "markdown",
      "source": [
        "- Compact open toplogy の前にもっと簡単なケースを先にやっておきましょう。部分位相（Induced Toplogy) 商位相 積位相 余積位相です。"
      ],
      "metadata": {
        "id": "riuzfdSEeuUV"
      }
    },
    {
      "cell_type": "markdown",
      "source": [
        "- 定義の仕方として\n",
        "  - **<font color=\"red\">The classic definition:</font>** the familiar, explicit construction of the topology\n",
        "  - **<font color=\"red\">The first characterization:</font>** a description of the topology as either the coarsest or the finest topology for which maps in to or out of the space are continuous, leading to a better definition.\n",
        "  - **<font color=\"red\">The second characterization:</font>** a description of the topology in terms of a universalproperty\n",
        "\n",
        "  の三つあります。最初は、とにかく位相は開集合を与えればよいから、開集合を与える。２番目は、連続写像になるように位相を与えるので、連続とは、開集合の逆像が開集合になることなのでこの性質を満たすよう一番粗いかまたは細かい位相を与える。最後は普遍性を使った定義の仕方で、これは圏論における普遍性とも関係する。[Universal property](https://en.wikipedia.org/wiki/Universal_property)"
      ],
      "metadata": {
        "id": "SW_6yVcpx72W"
      }
    },
    {
      "cell_type": "markdown",
      "source": [
        "- 部分位相は、位相空間 $X$ の部分集合 $A( \\subset X )$ に対して、位相をXの開集合と$A$ の共通部分部で定めます。これは The classic definition が一番簡単かな。他のものは1.2.1 や Theorem 1.1 をみて下さい。商位相、(余)積位相も同様です。 **<font color=\"red\">(余)積位相における $A$ は無限集合もありうることを注意してください。</font>**\n"
      ],
      "metadata": {
        "id": "qgW2heODGW9n"
      }
    },
    {
      "cell_type": "markdown",
      "source": [
        "##4.2. Homotopy and the Homotopy Category"
      ],
      "metadata": {
        "id": "ad2MzD3HNtI7"
      }
    },
    {
      "cell_type": "markdown",
      "source": [
        "- $X, Y$ を位相空間として, $f:X \\longrightarrow Y,\\ g:X \\longrightarrow Y  $ を連続写像とします。このとき 連続写像 $h:X \\times [0,1] \\longrightarrow Y$ が存在して、$h(x,0)=f(x),\\  h(x,1)=g(x) \\ (x \\in X)$ を満たすとき、$f$ と $g$ はホモトピックといって、$f \\simeq g$ で表します。これは同値関係なので、$Top(X,Y)/\\simeq$ を $[X,Y]$ で表し、homotopy classes\n",
        "of maps と言います。この射でできる圏のことをホモトピー圏と言います。"
      ],
      "metadata": {
        "id": "GRdV6heIN6J_"
      }
    },
    {
      "cell_type": "markdown",
      "source": [
        "- 位相空間の圏において $X,Y$ が同型の時は位相同型で位相同型で不変な性質を位相不変量といいますが、$X,Y$ がホモトピー圏において同型の時、その不変な性質をホモトピー不変量と言います。Exanmple 1.21 において、$R^n$ と $1$点 $*$ は,ホモトピックです。位相同型は次元を変えないので、位相同型ではありません。$1$ 点とホモトピックなとき可縮(Contarctible) と言います。特異ホモロジーや特異コホモロジーやホモトピー群はすべてホモトピー不変量です。ホモトピーは、数学において、非常に重要な概念です。\n"
      ],
      "metadata": {
        "id": "kgHkBZH5SAhP"
      }
    }
  ]
}