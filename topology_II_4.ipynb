{
  "nbformat": 4,
  "nbformat_minor": 0,
  "metadata": {
    "colab": {
      "provenance": [],
      "authorship_tag": "ABX9TyOLKgVjziBWiHz1Babsqimh",
      "include_colab_link": true
    },
    "kernelspec": {
      "name": "python3",
      "display_name": "Python 3"
    },
    "language_info": {
      "name": "python"
    }
  },
  "cells": [
    {
      "cell_type": "markdown",
      "metadata": {
        "id": "view-in-github",
        "colab_type": "text"
      },
      "source": [
        "<a href=\"https://colab.research.google.com/github/eclipse2ant/toplogy_II/blob/master/topology_II_4.ipynb\" target=\"_parent\"><img src=\"https://colab.research.google.com/assets/colab-badge.svg\" alt=\"Open In Colab\"/></a>"
      ]
    },
    {
      "cell_type": "markdown",
      "source": [
        "#4. Examples and Constructions"
      ],
      "metadata": {
        "id": "9Vq_TYAtNTOR"
      }
    },
    {
      "cell_type": "markdown",
      "source": [
        "##4.1. Subspace Topology, Quotient Topology, Product Topology, Coproduct Toplogy  "
      ],
      "metadata": {
        "id": "ei1uvmZ8YMMl"
      }
    },
    {
      "cell_type": "markdown",
      "source": [
        "- Compact open toplogy の前にもっと簡単なケースを先にやっておきましょう。部分位相（Induced Toplogy) 商位相 積位相 余積位相です。"
      ],
      "metadata": {
        "id": "riuzfdSEeuUV"
      }
    },
    {
      "cell_type": "markdown",
      "source": [
        "- 定義の仕方として\n",
        "  - **<font color=\"red\">The classic definition:</font>** the familiar, explicit construction of the topology\n",
        "  - **<font color=\"red\">The first characterization:</font>** a description of the topology as either the coarsest or the finest topology for which maps in to or out of the space are continuous, leading to a better definition.\n",
        "  - **<font color=\"red\">The second characterization:</font>** a description of the topology in terms of a universalproperty\n",
        "\n",
        "  の三つあります。最初は、とにかく位相は開集合を与えればよいから、開集合を与える。２番目は、連続写像になるように位相を与えるので、連続とは、開集合の逆像が開集合になることなのでこの性質を満たすよう一番粗いかまたは細かい位相を与える。最後は普遍性を使った定義の仕方で、これは圏論における普遍性とも関係する。[Universal property](https://en.wikipedia.org/wiki/Universal_property)"
      ],
      "metadata": {
        "id": "SW_6yVcpx72W"
      }
    },
    {
      "cell_type": "markdown",
      "source": [
        "- 部分位相は、位相空間 $X$ の部分集合 $A( \\subset X )$ に対して、位相をXの開集合と$A$ の共通部分部で定めます。これは The classic definition が一番簡単かな。他のものは1.2.1 や Theorem 1.1 をみて下さい。商位相、(余)積位相も同様です。 **<font color=\"red\">(余)積位相における $A$ は無限集合もありうることを注意してください。</font>**\n"
      ],
      "metadata": {
        "id": "qgW2heODGW9n"
      }
    }
  ]
}