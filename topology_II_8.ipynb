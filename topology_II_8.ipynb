{
  "nbformat": 4,
  "nbformat_minor": 0,
  "metadata": {
    "colab": {
      "provenance": [],
      "authorship_tag": "ABX9TyM1jW79aV1L1yItS/KyIOey",
      "include_colab_link": true
    },
    "kernelspec": {
      "name": "python3",
      "display_name": "Python 3"
    },
    "language_info": {
      "name": "python"
    }
  },
  "cells": [
    {
      "cell_type": "markdown",
      "metadata": {
        "id": "view-in-github",
        "colab_type": "text"
      },
      "source": [
        "<a href=\"https://colab.research.google.com/github/eclipse2ant/toplogy_II/blob/master/topology_II_8.ipynb\" target=\"_parent\"><img src=\"https://colab.research.google.com/assets/colab-badge.svg\" alt=\"Open In Colab\"/></a>"
      ]
    },
    {
      "cell_type": "markdown",
      "source": [
        "#7.  層(Sheaves)"
      ],
      "metadata": {
        "id": "9Vq_TYAtNTOR"
      }
    },
    {
      "cell_type": "markdown",
      "source": [
        "位相構造が与えられたとき、点列の極限（またはfilter) や連続性が定義できることも重要ですが、局所と大域という概念が定義できるようになることも重要です。層はこれに関して、なくてはならない概念です。"
      ],
      "metadata": {
        "id": "fGnIS0sYYkaO"
      }
    },
    {
      "cell_type": "markdown",
      "source": [
        "##7.1 前層(Presheaves)"
      ],
      "metadata": {
        "id": "g4D-atNOTr1J"
      }
    },
    {
      "cell_type": "markdown",
      "source": [
        "- [層(Wiki)](https://ja.wikipedia.org/wiki/%E5%B1%A4_(%E6%95%B0%E5%AD%A6)) の言葉を引用すれば、\n",
        "\n",
        "圏論の言葉で言えば、$X$ の開集合系（これは包含関係に関する順序集合となる）$T$ を圏と見なすとき、$X$ 上の前層とは $T$ から集合の圏への反変関手のことであるということができる。また、可換群の（あるいは加群の）前層や環の前層は $T$ から可換群の圏や環の圏への反変関手のことであり、同様にして $T$ から適当な圏 $\\mathcal{C}$ への反変関手として $\\mathcal{C}$ に値を持つ前層が定義される。二つの前層を関手と見なして、その間の自然変換となるものを前層の射または前層の準同型とよぶ。\n"
      ],
      "metadata": {
        "id": "iuboIo58UAgA"
      }
    },
    {
      "cell_type": "markdown",
      "source": [
        "##7.2 層(Sheaves)"
      ],
      "metadata": {
        "id": "XKeHhu-xV_Xa"
      }
    },
    {
      "cell_type": "markdown",
      "source": [
        "- [層(Wiki)](https://ja.wikipedia.org/wiki/%E5%B1%A4_(%E6%95%B0%E5%AD%A6)) の層のところの既約性条件と閉条件の二つの条件を前層が満たすとき、層といいます。前層は層化によって層にすることが可能。"
      ],
      "metadata": {
        "id": "EaVfJDCn7GnE"
      }
    },
    {
      "cell_type": "markdown",
      "source": [
        " - 位相空間 $X$ があったら、その開集合 $U$ に対して 開集合上で定義された関数 $C(U)=\\{f \\mid f : U \\longrightarrow \\mathbf{R}\\}$ を対応させると、 $C(U)$ は線形空間で、$V \\subset U$ ならば $\\rho_{V,U} :  C(U) \\longrightarrow C(V)$ を制限写像とすると、$\\rho_{V,U}$ は線形写像で、前層になりさらに層の条件を満たすもで層になる。これを抽象化することによって、 [arithmetic geom](https://drive.google.com/file/d/1jbxkstraK9OTSugMudQ4DxO9ilW-MAQ3/view?usp=sharing) 書いたように 整数 $n$ や 多項式 $F(X)$ を $U$ 上の関数と見ることができる。"
      ],
      "metadata": {
        "id": "KWXXBGZTbLjg"
      }
    },
    {
      "cell_type": "markdown",
      "source": [
        "##7.3 Cohomology sheaves"
      ],
      "metadata": {
        "id": "pe9X0P7FVt2_"
      }
    },
    {
      "cell_type": "markdown",
      "source": [
        "応用上有用なのは層のコホモロジーです。日本語のwikiはパッとしないので英語のwiki を引用します。"
      ],
      "metadata": {
        "id": "K0WVoxlJzzYb"
      }
    },
    {
      "cell_type": "markdown",
      "source": [
        "- 数学において、層コホモロジーは、位相空間上の層の大域的なセクションを解析するためにホモロジカル代数を適用することです。広く言えば、層コホモロジーは、局所的には解ける幾何学的問題を大域的に解く際の障害を記述します。層コホモロジー研究の中心的な業績は、グロタンディークの1957年の東北論文です。層、層コホモロジー、スペクトラルシーケンスは、オーストリアの捕虜収容所Oflag XVII-Aでジャン・ルレーによって導入されました。1940年から1945年まで、ルレーと他の捕虜は、収容所内で「捕虜の大学」を組織しました。ルレーの定義は1950年代に簡素化され、明確化されました。層コホモロジーは、代数トポロジーにおけるコホモロジーの新しいアプローチであるだけでなく、複素解析幾何学や代数幾何学においても強力な方法であることが明らかになりました。これらの科目は、しばしば指定された局所的な特性を持つ大域的な関数を構築することを含み、層コホモロジーはそのような問題に理想的に適しています。リーマン・ロッホの定理やホッジの定理などの多くの以前の結果は、層コホモロジーを使用して一般化されたり、より良く理解されました。\n",
        "\n",
        "\n",
        "\n",
        "\n",
        "\n",
        "\n"
      ],
      "metadata": {
        "id": "nZMmR_7PzN5s"
      }
    },
    {
      "cell_type": "markdown",
      "source": [
        "- 位相空間X上のアーベル群の層の圏はアーベル圏であるため、層の射$ f: B \\longrightarrow C $が単射（モノモルフィズム）であるか全射（エピモルフィズム）であるかを問うことは意味をなします。一つの答えは、$f$ が単射（それぞれ全射）であるのは、$X$ の各点 $x$ に対して付随する茎上の準同型 $B_x → C_x$ が単射（それぞれ全射）である場合に限られます。このことから、$f$ が単射であるのは、$X$ の各開集合 $U$ に対してsectionの準同型 $B(U) \\longrightarrow  C(U)$ が単射である場合に限ります。しかし、全射性はより微妙です： 射 $f$ が全射であるのは、$X$ の各開集合$U$において、$U$上の $C$ のsection $s$、および $U$ 内の各点 $x$ に対して、$s$ を $V$ に制限したものが $B$の $V$ 上のあるsection の像であるような $x$ の$U$ 内の開近傍Vが存在する場合に限ります。（言葉で言えば、$C$の各section は局所的に $B$ のsection に持ち上げられます。）結果として、層の全射 $B\\longrightarrow  C$ と $X$ 上の $C$ の section $s$ が与えられたとき、$s$ が $X$ 上の $B$ のsectionの像であるのはいつかという疑問が生じます。これは、幾何学におけるあらゆる種類の局所対全体の問いのモデルです。層コホモロジーは満足のいく一般的な答えを提供します。すなわち、全射 $B \\longrightarrow C$の核 $A$を取り、短完全列 <br>$\\qquad 0 → A → B → C → 0$<br>\n",
        "の層を $X$ 上に与えます。すると、アーベル群の長完全列である層コホモロジー群が得られます:$\\qquad 0 → H^0(X, A) → H^0(X, B) → H^0(X, C) → H^1(X, A) → ⋯$,<br>ここで$H^0(X, A$) はX上のAの大域的節の群A(X)です。例えば、群H^1(X, A)がゼロであれば、この完全列はCの全ての大域的節がBの大域的節に持ち上げられることを意味します。より広く、高次コホモロジー群の知識を層の節を理解する上での基本的なツールとして使います。グロタンディークの層コホモロジーの定義は、現在標準とされており、ホモロジカル代数の言語を使用します。本質的な点は、位相空間Xを固定し、コホモロジーをX上のアーベル群の層からアーベル群への関手として考えることです。詳細には、関手E ↦ E(X)をX上のアーベル群の層からアーベル群へのものとして開始します。これは左完全ですが、一般には右完全では\n",
        "ありません。そこで、整数iに対する群Hi(X, E)は、関手E ↦ E(X)の右導来関手として定義されます。これにより、Hi(X, E)がi < 0の場合にゼロであり、H^0(X, E)が大域的節の群E(X)であることが自動的になります。上記の長完全列もこの定義から直接導かれます。\n",
        "導来関手の定義は、任意の位相空間X上のアーベル群の層の圏に十分な単射が存在することを使用します。つまり、すべての層Eに対して、射E → Iを持つ単射層Iが存在します。これにより、すべての層Eは単射解を持つことになります。"
      ],
      "metadata": {
        "id": "zYGprSL80LV8"
      }
    }
  ]
}