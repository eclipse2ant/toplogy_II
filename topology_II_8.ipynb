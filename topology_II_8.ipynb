{
  "nbformat": 4,
  "nbformat_minor": 0,
  "metadata": {
    "colab": {
      "provenance": [],
      "authorship_tag": "ABX9TyPK2AXHnBAqLtGcjQoRNO8W",
      "include_colab_link": true
    },
    "kernelspec": {
      "name": "python3",
      "display_name": "Python 3"
    },
    "language_info": {
      "name": "python"
    }
  },
  "cells": [
    {
      "cell_type": "markdown",
      "metadata": {
        "id": "view-in-github",
        "colab_type": "text"
      },
      "source": [
        "<a href=\"https://colab.research.google.com/github/eclipse2ant/toplogy_II/blob/master/topology_II_8.ipynb\" target=\"_parent\"><img src=\"https://colab.research.google.com/assets/colab-badge.svg\" alt=\"Open In Colab\"/></a>"
      ]
    },
    {
      "cell_type": "markdown",
      "source": [
        "#7.  層(Sheaves)"
      ],
      "metadata": {
        "id": "9Vq_TYAtNTOR"
      }
    },
    {
      "cell_type": "markdown",
      "source": [
        "##7.1 前層(Presheaves)"
      ],
      "metadata": {
        "id": "g4D-atNOTr1J"
      }
    },
    {
      "cell_type": "markdown",
      "source": [
        "- [層(Wiki)](https://ja.wikipedia.org/wiki/%E5%B1%A4_(%E6%95%B0%E5%AD%A6)) の言葉を引用すれば、\n",
        "\n",
        "圏論の言葉で言えば、$X$ の開集合系（これは包含関係に関する順序集合となる）$T$ を圏と見なすとき、$X$ 上の前層とは $T$ から集合の圏への反変関手のことであるということができる。また、可換群の（あるいは加群の）前層や環の前層は $T$ から可換群の圏や環の圏への反変関手のことであり、同様にして $T$ から適当な圏 $\\mathcal{C}$ への反変関手として $\\mathcal{C}$ に値を持つ前層が定義される。二つの前層を関手と見なして、その間の自然変換となるものを前層の射または前層の準同型とよぶ。\n"
      ],
      "metadata": {
        "id": "iuboIo58UAgA"
      }
    },
    {
      "cell_type": "markdown",
      "source": [],
      "metadata": {
        "id": "XKeHhu-xV_Xa"
      }
    },
    {
      "cell_type": "markdown",
      "source": [],
      "metadata": {
        "id": "pe9X0P7FVt2_"
      }
    }
  ]
}