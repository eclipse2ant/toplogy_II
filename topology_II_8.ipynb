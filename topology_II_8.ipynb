{
  "nbformat": 4,
  "nbformat_minor": 0,
  "metadata": {
    "colab": {
      "provenance": [],
      "authorship_tag": "ABX9TyOByxru5V74T+nBREcVOqSx",
      "include_colab_link": true
    },
    "kernelspec": {
      "name": "python3",
      "display_name": "Python 3"
    },
    "language_info": {
      "name": "python"
    }
  },
  "cells": [
    {
      "cell_type": "markdown",
      "metadata": {
        "id": "view-in-github",
        "colab_type": "text"
      },
      "source": [
        "<a href=\"https://colab.research.google.com/github/eclipse2ant/toplogy_II/blob/master/topology_II_8.ipynb\" target=\"_parent\"><img src=\"https://colab.research.google.com/assets/colab-badge.svg\" alt=\"Open In Colab\"/></a>"
      ]
    },
    {
      "cell_type": "markdown",
      "source": [
        "#7.  層(Sheaves)"
      ],
      "metadata": {
        "id": "9Vq_TYAtNTOR"
      }
    },
    {
      "cell_type": "markdown",
      "source": [
        "位相構造が与えられたとき、点列の極限（またはfilter) や連続性が定義できることも重要ですが、局所と大域という概念が定義できるようになることも重要です。層はこれに関して、なくてはならない概念です。"
      ],
      "metadata": {
        "id": "fGnIS0sYYkaO"
      }
    },
    {
      "cell_type": "markdown",
      "source": [
        "##7.1 前層(Presheaves)"
      ],
      "metadata": {
        "id": "g4D-atNOTr1J"
      }
    },
    {
      "cell_type": "markdown",
      "source": [
        "- [層(Wiki)](https://ja.wikipedia.org/wiki/%E5%B1%A4_(%E6%95%B0%E5%AD%A6)) の言葉を引用すれば、\n",
        "\n",
        "圏論の言葉で言えば、$X$ の開集合系（これは包含関係に関する順序集合となる）$T$ を圏と見なすとき、$X$ 上の前層とは $T$ から集合の圏への反変関手のことであるということができる。また、可換群の（あるいは加群の）前層や環の前層は $T$ から可換群の圏や環の圏への反変関手のことであり、同様にして $T$ から適当な圏 $\\mathcal{C}$ への反変関手として $\\mathcal{C}$ に値を持つ前層が定義される。二つの前層を関手と見なして、その間の自然変換となるものを前層の射または前層の準同型とよぶ。\n"
      ],
      "metadata": {
        "id": "iuboIo58UAgA"
      }
    },
    {
      "cell_type": "markdown",
      "source": [
        "##7.2 層(Sheaves)"
      ],
      "metadata": {
        "id": "XKeHhu-xV_Xa"
      }
    },
    {
      "cell_type": "markdown",
      "source": [
        "- [層(Wiki)](https://ja.wikipedia.org/wiki/%E5%B1%A4_(%E6%95%B0%E5%AD%A6)) の層のところの既約性条件と閉条件の二つの条件を前層が満たすとき、層といいます。前層は層化によって層にすることが可能。"
      ],
      "metadata": {
        "id": "EaVfJDCn7GnE"
      }
    },
    {
      "cell_type": "markdown",
      "source": [
        " - 位相空間 $X$ があったら、その開集合 $U$ に対して 開集合上で定義された関数 $C(U)=\\{f \\mid f : U \\longrightarrow \\mathbf{R}\\}$ を対応させると、 $C(U)$ は線形空間で、$V \\subset U$ ならば $\\rho_{V,U} :  C(U) \\longrightarrow C(V)$ を制限写像とすると、$\\rho_{V,U}$ は線形写像で、前層になりさらに層の条件を満たすもで層になる。これを抽象化することによって、 [arithmetic geom](https://drive.google.com/file/d/1jbxkstraK9OTSugMudQ4DxO9ilW-MAQ3/view?usp=sharing) 書いたように 整数 $n$ や 多項式 $F(X)$ を $U$ 上の関数と見ることができる。"
      ],
      "metadata": {
        "id": "KWXXBGZTbLjg"
      }
    },
    {
      "cell_type": "markdown",
      "source": [],
      "metadata": {
        "id": "pe9X0P7FVt2_"
      }
    }
  ]
}