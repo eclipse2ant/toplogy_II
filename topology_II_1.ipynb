{
  "nbformat": 4,
  "nbformat_minor": 0,
  "metadata": {
    "colab": {
      "provenance": [],
      "authorship_tag": "ABX9TyNRg1OqIMLbPWTVjzNsCbKS",
      "include_colab_link": true
    },
    "kernelspec": {
      "name": "python3",
      "display_name": "Python 3"
    },
    "language_info": {
      "name": "python"
    }
  },
  "cells": [
    {
      "cell_type": "markdown",
      "metadata": {
        "id": "view-in-github",
        "colab_type": "text"
      },
      "source": [
        "<a href=\"https://colab.research.google.com/github/eclipse2ant/toplogy_II/blob/master/topology_II_1.ipynb\" target=\"_parent\"><img src=\"https://colab.research.google.com/assets/colab-badge.svg\" alt=\"Open In Colab\"/></a>"
      ]
    },
    {
      "cell_type": "markdown",
      "source": [
        "#0. はじめに"
      ],
      "metadata": {
        "id": "7GTWEmhWgjAP"
      }
    },
    {
      "cell_type": "markdown",
      "source": [
        "##0.1. この講義のめざすもの"
      ],
      "metadata": {
        "id": "riuzfdSEeuUV"
      }
    },
    {
      "cell_type": "markdown",
      "source": [
        "- この講義では連続や極限について学びます。この講義のタイトルが位相空間論なのに、あえて位相と言わないで、連続と極限といったのは理由があります。集合に位相構造が入ったものが位相空間です。確かに位相があれば、連続や極限が論じられます。しかし今日の数学での連続や極限はそれだけには収まっていないからです。"
      ],
      "metadata": {
        "id": "05innAe3gozv"
      }
    },
    {
      "cell_type": "markdown",
      "source": [
        " 1. 例えば射影極限や帰納極限といった概念は位相に関係なく定義できます。\n",
        "\n",
        " 1. 数学において重要な概念であるホモトピーは、近年、代数幾何学でも使われますが、ホモトピーの話には位相空間はコンパクト生成ハウスドルフ空間である必要がありますが、代数幾何学で通常出てくる位相はザリスキー位相ですが、これはハウスドルフ空間どころか $T_1$ 公理も満たしません。そこで、位相空間が必要なホモトピーの話を圏論化(Categorification) してモデル圏を考えます。\n",
        "\n",
        " 1. 代数幾何学や数論幾何学で使われるグロタンディーク位相はその集合内に収まりきらない定義で通常の位相空間とは異なります。"
      ],
      "metadata": {
        "id": "XNN5H41AFzD2"
      }
    },
    {
      "cell_type": "markdown",
      "source": [
        " - これらの理由から、単に位相空間だけを学んでもそれだけでは不十分です。とはいっても、ちょうどプログラミングでオブジェクト指向プログラミングを一度経由しないと関数型プログラミングが学べばないと同様に、位相空間の知識がなければ先の話も学べません。"
      ],
      "metadata": {
        "id": "MksbpwYvGote"
      }
    },
    {
      "cell_type": "markdown",
      "source": [
        "- 従って、次のような戦略をとります。まず、一般の集合に位相を入れることつまり位相空間を学びますが、その際、圏論的アプローチをとります。圏論的アプローチをとることで、位相とは何か、極限や連続とは何かを考えてもらいます。位相空間の細かい性質を述べるよりも、それらの性質の重要な枠組みとその使われ方を述べるにとどめ、細かい所は自分で調べてもらう。位相の使われ方をいろいろ見ることで位相とはなにかを考えてもらう。"
      ],
      "metadata": {
        "id": "R5w9HPpSIu02"
      }
    },
    {
      "cell_type": "markdown",
      "source": [
        " - 後述の本では、原書で　point-set topology といい方が使われますが、これはグロタンディーク位相まで含めた位相をさしています。これに対してモデル圏でホモトピー圏を考える際に、位相は定義されてないけれど、論じられていくもの、それは圏論や∞圏論なしにはあり得ませんがそこへ向かう足掛かりとなれば幸いです。"
      ],
      "metadata": {
        "id": "bSFphKg1FS31"
      }
    },
    {
      "cell_type": "markdown",
      "source": [
        "##0.2. 本について"
      ],
      "metadata": {
        "id": "boRXb3keN63n"
      }
    },
    {
      "cell_type": "markdown",
      "source": [
        "- $[1]$[「圏論によるトポロジー」](https://www.morikita.co.jp/books/mid/006311) </br>\n",
        "\n",
        "   原題は\"Toplogy A Categorical Approach\" で原著もキンドル版でも買っています。原著の方は探せば PDF がネットに転がっています。 Preface に大学院1年用って書かれてますがアメリカの大学、大学生はあまり高等な知識は院でないとやらないはず、この中で、あまり普通の位相空間論はやりたくないってあって、代数トポロジーの話に必要な内容とあります。Point Set Toplogy ってひとくくりで、ザリスキー位相やｐ進位相をひとくくりしてるところがすごい！！　l進でなく[p進](https://ncatlab.org/nlab/show/p-adic+cohomology)です。エタールだけでなくリジッドやクリスタリン・コホモロジーまで含めてでしょうね。トポスも入ってきそう。ターゲットは、ここでの代数トポロジーは、当然ホモトピー論のカテゴリー化というか圏論的アプローチで、モデル圏やモチビック・コホモロジーあたりにターゲットがあって、そのための一歩という感じ。いわゆるホモトピー論に必要なコンパクト生成位相空間でのホモトピー論の基礎を圏論的に扱う図式なってるんだと思います。コンパクト・開位相とか、それと極限の扱いはフィルターを使ってます。チコノフの定理あたりもウルトラ・フィルター使っての議論。フィルターと圏論ないしはトポスとの関係はどうなるんだろう？"
      ],
      "metadata": {
        "id": "YLZ733trN7Re"
      }
    },
    {
      "cell_type": "markdown",
      "source": [
        "- [「集合と位相」（斎藤毅著）](https://www.amazon.co.jp/%E5%A4%A7%E5%AD%A6%E6%95%B0%E5%AD%A6%E3%81%AE%E5%85%A5%E9%96%808-%E9%9B%86%E5%90%88%E3%81%A8%E4%BD%8D%E7%9B%B8-%E6%96%8E%E8%97%A4%E6%AF%85-ebook/dp/B0CLR4MKZC/ref=sr_1_1?__mk_ja_JP=%E3%82%AB%E3%82%BF%E3%82%AB%E3%83%8A&crid=FJE0JGBQZQHN&keywords=%E9%9B%86%E5%90%88%E3%81%A8%E4%BD%8D%E7%9B%B8%E3%80%8D%EF%BC%88%E6%96%8E%E8%97%A4%E6%AF%85%E8%91%97&qid=1702176629&sprefix=%E9%9B%86%E5%90%88%E3%81%A8%E4%BD%8D%E7%9B%B8+%E6%96%8E%E8%97%A4%E6%AF%85%E8%91%97%2Caps%2C172&sr=8-1)</br>\n",
        "\n",
        "  この本を薦めるのは、著者が数論幾何の専門家で、代数幾何学こみの位相の扱いをしているからです。具体的には、位相には解析的な場合と代数的な場合の2つあって後者は代数幾何学で主に使われますがザリスキー位相は、ハウスドルフの公理を満たさないし、T_1公理もみたしません。一点が閉集合にならずにその閉包が、全体集合になる場合もあります。まあ密着位相（トリビアル位相）もそうですが。ハウスドルフ空間でないと、必ずしも収束列は一点に収束するとは限りません。また、コンパクト集合は閉集合になるとは限りません。また代数幾何学では直積位相は異なる位相を入れるので、それで対角射の像が閉集合として分離的といいます（これで代用する）。代数幾何学ではザリスキー位相は荒すぎるので、エタール位相などのグロタンディーク位相をつかうようになりこれはもはや位相空間の定義からはみ出していきます。この場合、重要なのは層（Sheaf)の扱いで、だからそれほど通常の位相空間のいろんな概念を真面目にやっても裏切られたような感じなることも覚えていてください。とはいえ、通常の位相（ザリスキー位相）は大切です。いろんな部分で使われます。また通常の解析の場合も位相は重要です。微分幾何やトポロジーでも多用します。また像位相と誘導位相は　線形代数のときの　Kernel　と　CoKernel　のような　矢印をひっくり返した関係にあります。こういう圏論的なアプローチもこの本では行ってるので見通しが立ちやすいと思います。圏論的な見方にもなれてください。圏論関係の本はいろいろでているので（今は巷は関数型プログラミングが台頭しHaskellが注目され、そのことで圏論とプログラミングとの関係が注目されてるせいか、圏論ブームです）自分でいろいろ探してみてください。"
      ],
      "metadata": {
        "id": "i6gcJUgzjwxN"
      }
    },
    {
      "cell_type": "markdown",
      "source": [
        "##0.2. 位相とは"
      ],
      "metadata": {
        "id": "H3n5Pe0GW96C"
      }
    },
    {
      "cell_type": "markdown",
      "source": [
        "- 位相については、私の違う講義「数学の散策」で書いた\n",
        "https://github.com/eclipse2ant/math_walk/blob/master/math_walk_4.ipynb\n",
        "https://github.com/eclipse2ant/math_walk/blob/master/math_walk_5.ipynb\n",
        "\n",
        "  を見てください。詳しくは自分で調べれ欲しいのですが、集合$X$ に対して位相を定めるととは、$X$の冪集合 $2^X$ の 部分集合 $\\Theta$ を定めることです。上に書いたように $\\mathbb R^n$ の開集合の集合族の持つ性質を満たすように定めます。つまり\n",
        "$$\\begin{align}\n",
        "& \\phi,X \\in \\Theta\\\\\n",
        "& U_\\lambda  \\in  \\Theta \\quad (\\lambda \\in \\Lambda) \\quad \\text{ならば }  \\quad \\bigcup_{\\lambda \\in \\Lambda} U_\\lambda \\in  \\Theta\\\\\n",
        "& U_\\lambda  \\in  \\Theta \\quad (\\lambda \\in \\Lambda),\\ \\Lambda \\text{は有限集合　　ならば}   \\quad \\bigcap_{\\lambda \\in \\Lambda} U_\\lambda \\in  \\Theta\n",
        "\\end{align}$$\n",
        "\n",
        "　　です。\n"
      ],
      "metadata": {
        "id": "izgBIcwnXHYR"
      }
    },
    {
      "cell_type": "markdown",
      "source": [],
      "metadata": {
        "id": "de6jvDeEg_u0"
      }
    },
    {
      "cell_type": "markdown",
      "source": [],
      "metadata": {
        "id": "GibiOM16c8Xh"
      }
    }
  ]
}