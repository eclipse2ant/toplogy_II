{
  "nbformat": 4,
  "nbformat_minor": 0,
  "metadata": {
    "colab": {
      "provenance": [],
      "authorship_tag": "ABX9TyPStZIb7CCY6+jme78xU1Xk",
      "include_colab_link": true
    },
    "kernelspec": {
      "name": "python3",
      "display_name": "Python 3"
    },
    "language_info": {
      "name": "python"
    }
  },
  "cells": [
    {
      "cell_type": "markdown",
      "metadata": {
        "id": "view-in-github",
        "colab_type": "text"
      },
      "source": [
        "<a href=\"https://colab.research.google.com/github/eclipse2ant/toplogy_II/blob/master/topology_II_1.ipynb\" target=\"_parent\"><img src=\"https://colab.research.google.com/assets/colab-badge.svg\" alt=\"Open In Colab\"/></a>"
      ]
    },
    {
      "cell_type": "markdown",
      "source": [
        "#0. はじめに"
      ],
      "metadata": {
        "id": "7GTWEmhWgjAP"
      }
    },
    {
      "cell_type": "markdown",
      "source": [
        "- この講義では連続や極限について学びます。この講義のタイトルが位相空間論なのに、あえて位相と言わないで、連続と極限といったのは理由があります。集合に位相構造が入ったものが位相空間です。確かに位相があれば、連続や極限が論じられます。しかし今日の数学での連続や極限はそれだけには収まっていないからです。"
      ],
      "metadata": {
        "id": "05innAe3gozv"
      }
    },
    {
      "cell_type": "markdown",
      "source": [
        " 1. 例えば射影極限や帰納極限といった概念は位相に関係なく定義できます。\n",
        "\n",
        " 1. 数学において重要な概念であるホモトピーは、近年、代数幾何学でも使われますが、ホモトピーの話には位相空間はコンパクト生成ハウスドルフ空間である必要がありますが、代数幾何学で通常出てくる位相はザリスキー位相ですが、これはハウスドルフ空間どころか $T_1$ 公理も満たしません。そこで、位相空間が必要なホモトピーの話を圏論化(Categorification) してモデル圏を考えます。\n",
        "\n",
        " 1. 代数幾何学や数論幾何学で使われるグロタンディーク位相はその集合内に収まりきらない定義で通常の位相空間とは異なります。"
      ],
      "metadata": {
        "id": "XNN5H41AFzD2"
      }
    },
    {
      "cell_type": "markdown",
      "source": [
        " - これらの理由から、単に位相空間だけを学んでもそれだけでは不十分です。とはいっても、ちょうどプログラミングでオブジェクト指向プログラミングを一度経由しないと関数型プログラミングが学べばないと同様に、位相空間の知識がなければ先の話も学べません。"
      ],
      "metadata": {
        "id": "MksbpwYvGote"
      }
    },
    {
      "cell_type": "markdown",
      "source": [
        "- 従って、次のような戦略をとります。まず、一般の集合に位相を入れることつまり位相空間を学びますが、その際、圏論的アプローチをとります。圏論的アプローチをとることで、位相とは何か、極限や連続とは何かを考えてもらいます。位相空間の細かい性質を述べるよりも、それらの性質の重要な枠組みとその使われ方を述べるにとどめ、細かい所は自分で調べてもらう。位相の使われ方をいろいろ見ることで位相とはなにかを考えてもらう。"
      ],
      "metadata": {
        "id": "R5w9HPpSIu02"
      }
    },
    {
      "cell_type": "markdown",
      "source": [
        " - 後述の本では、原書で　point-set topology といい方が使われますが、これはグロタンディーク位相まで含めた位相をさしています。これに対してモデル圏でホモトピー圏を考える際に、位相は定義されてないけれど、論じられていくもの、それは圏論や∞圏論なしにはあり得ませんがそこへ向かう足掛かりとなれば幸いです。"
      ],
      "metadata": {
        "id": "bSFphKg1FS31"
      }
    },
    {
      "cell_type": "markdown",
      "source": [],
      "metadata": {
        "id": "boRXb3keN63n"
      }
    },
    {
      "cell_type": "markdown",
      "source": [],
      "metadata": {
        "id": "YLZ733trN7Re"
      }
    }
  ]
}