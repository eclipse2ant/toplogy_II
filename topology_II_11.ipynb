{
  "nbformat": 4,
  "nbformat_minor": 0,
  "metadata": {
    "colab": {
      "provenance": [],
      "authorship_tag": "ABX9TyNfkqEag8hIjRB0go/tZ/zu",
      "include_colab_link": true
    },
    "kernelspec": {
      "name": "python3",
      "display_name": "Python 3"
    },
    "language_info": {
      "name": "python"
    }
  },
  "cells": [
    {
      "cell_type": "markdown",
      "metadata": {
        "id": "view-in-github",
        "colab_type": "text"
      },
      "source": [
        "<a href=\"https://colab.research.google.com/github/eclipse2ant/toplogy_II/blob/master/topology_II_11.ipynb\" target=\"_parent\"><img src=\"https://colab.research.google.com/assets/colab-badge.svg\" alt=\"Open In Colab\"/></a>"
      ]
    },
    {
      "cell_type": "markdown",
      "source": [
        "#10. 位相空間論自体の応用例"
      ],
      "metadata": {
        "id": "9Vq_TYAtNTOR"
      }
    },
    {
      "cell_type": "markdown",
      "source": [
        " - いかかでしょう、位相は、実に多義にわたって現代数学と関係してますが、それ自体より、そこから派生した概念がいろいろ数学において基本的な役割を果たして、もはやただ位相を学ぶだけでは、不十分なことが感じられたと思います。圏論や層それもGrothendieck の意味での層や位相(site または 景) モデル圏やホモトピーといった話、代数幾何学や代数的位相幾何の話を中心に述べてきました。圏論をアナロジーのてこにして、位相のいろんな概念が違った形でどういう働きを持つかを考えることは、非常に大切だと思います。"
      ],
      "metadata": {
        "id": "NUyrH8P6vEtn"
      }
    },
    {
      "cell_type": "markdown",
      "source": [
        "- ここでは元の位相空間自体で、直接の使われ方を見てみましょう。"
      ],
      "metadata": {
        "id": "JA2AFW0CxL0W"
      }
    },
    {
      "cell_type": "markdown",
      "source": [
        "##10.1. 具体例をさがして"
      ],
      "metadata": {
        "id": "ho7aQju2xeG3"
      }
    },
    {
      "cell_type": "markdown",
      "source": [
        "- 位相空間論ってYoutube　動画見てると　なんか　めっちゃ難しがられてますが。実数やε−δ論法からはいろうとするからで、そうではなく端的に集合に単純な三つの条件が入ったとして、他に余分な変な詮索しなければ、こんな単純なものはないです。連続や極限も意味はすんなり理解できると思います。\n",
        "また前回書いたように、もはや　General ではなくなってしまっています。とはいえ、何か使ってる具体例を授業で見せる方がいいかなぁって思ってて、ただ性質や定義を並べて証明しても、それは苦しいだけで興味がわかないのかもしれません。（私は学んだ際に、勝手に想像して空想して楽しかったのですが）。\n",
        "で、具体例でしかもしっかり使う例、かつ位相がないとやっていけない例って。。。\n",
        "って思ってたたら、ありました。<br>[Abelian Galois Theory](https://drive.google.com/file/d/1S3aSUEFAfEoajQLUJvdh6jJ9zmicYLKW/view?usp=sharing) <br>[p-adic number local and global](https://drive.google.com/file/d/1DxTci7ADK9-TZred1Y07OaQJzMDXMOLO/view?usp=sharing)<br> [Adeles and Ideales ](https://drive.google.com/file/d/10lXqc-uJKrvfxxn1haohZczCqVP-dk9v/view?usp=sharing)<br> もとは<br> https://arxiv.org/pdf/hep-th/0512172.pdf <br>です。"
      ],
      "metadata": {
        "id": "posaBo9gyhzG"
      }
    },
    {
      "cell_type": "markdown",
      "source": [],
      "metadata": {
        "id": "ADwo275iyoh3"
      }
    }
  ]
}