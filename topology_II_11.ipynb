{
  "nbformat": 4,
  "nbformat_minor": 0,
  "metadata": {
    "colab": {
      "provenance": [],
      "authorship_tag": "ABX9TyMw5TZI/3gmRkK/XfL2jomS",
      "include_colab_link": true
    },
    "kernelspec": {
      "name": "python3",
      "display_name": "Python 3"
    },
    "language_info": {
      "name": "python"
    }
  },
  "cells": [
    {
      "cell_type": "markdown",
      "metadata": {
        "id": "view-in-github",
        "colab_type": "text"
      },
      "source": [
        "<a href=\"https://colab.research.google.com/github/eclipse2ant/toplogy_II/blob/master/topology_II_11.ipynb\" target=\"_parent\"><img src=\"https://colab.research.google.com/assets/colab-badge.svg\" alt=\"Open In Colab\"/></a>"
      ]
    },
    {
      "cell_type": "markdown",
      "source": [
        "#10. 位相空間論自体の応用例"
      ],
      "metadata": {
        "id": "9Vq_TYAtNTOR"
      }
    },
    {
      "cell_type": "markdown",
      "source": [
        " - いかかでしょう、位相は、実に多義にわたって現代数学と関係してますが、それ自体より、そこから派生した概念がいろいろ数学において基本的な役割を果たして、もはやただ位相を学ぶだけでは、不十分なことが感じられたと思います。圏論や層それもGrothendieck の意味での層や位相(site または 景) モデル圏やホモトピーといった話、代数幾何学や代数的位相幾何の話を中心に述べてきました。圏論をアナロジーのてこにして、位相のいろんな概念が違った形でどういう働きを持つかを考えることは、非常に大切だと思います。"
      ],
      "metadata": {
        "id": "NUyrH8P6vEtn"
      }
    },
    {
      "cell_type": "markdown",
      "source": [
        "- ここでは元の位相空間自体で、直接の使われ方を見てみましょう。"
      ],
      "metadata": {
        "id": "JA2AFW0CxL0W"
      }
    },
    {
      "cell_type": "markdown",
      "source": [
        "##10.1. 具体例をさがして"
      ],
      "metadata": {
        "id": "ho7aQju2xeG3"
      }
    },
    {
      "cell_type": "markdown",
      "source": [
        "- 位相空間論ってYoutube　動画見てると　なんか　めっちゃ難しがられてますが。実数やε−δ論法からはいろうとするからで、そうではなく端的に集合に単純な三つの条件が入ったとして、他に余分な変な詮索しなければ、こんな単純なものはないです。連続や極限も意味はすんなり理解できると思います。\n",
        "また前回書いたように、もはや　General ではなくなってしまっています。とはいえ、何か使ってる具体例を授業で見せる方がいいかなぁって思ってて、ただ性質や定義を並べて証明しても、それは苦しいだけで興味がわかないのかもしれません。（私は学んだ際に、勝手に想像して空想して楽しかったのですが）。\n",
        "で、具体例でしかもしっかり使う例、かつ位相がないとやっていけない例って。。。\n",
        "って思ってたら、ありました。<br>[Abelian Galois Theory](https://drive.google.com/file/d/1S3aSUEFAfEoajQLUJvdh6jJ9zmicYLKW/view?usp=sharing) <br>[p-adic number local and global](https://drive.google.com/file/d/1DxTci7ADK9-TZred1Y07OaQJzMDXMOLO/view?usp=sharing)<br> [Adeles and Ideales ](https://drive.google.com/file/d/10lXqc-uJKrvfxxn1haohZczCqVP-dk9v/view?usp=sharing)<br> もとは<br> https://arxiv.org/pdf/hep-th/0512172.pdf <br>の一番最初の部分です。"
      ],
      "metadata": {
        "id": "posaBo9gyhzG"
      }
    },
    {
      "cell_type": "markdown",
      "source": [
        "- 有理数の集合Qに１の４乗根を追加して、新しい体を作ります。実際は a+bi  a,b は有理数　これが分数に当たる整数として　a+bi a,b は整数という新しい整数を考えます。これはガウスの整数といって由緒正しき整数です。この時、普通の素数は素数でなくなります。例えば5=(1+2i)(1-2i)=1+4\n",
        "このように数を拡張して、その性質を見る分野が代数的整数論で、ここでそのガロア群を調べるために、より簡単なものに帰着させる話が類体論になってきます。類体論が扱うのは、ガロア群が可換なものアーベル群の場合だけです。非可換なものを扱おうとするのがラングランズプログラムで、それこそフェルマーの最終定理の谷山-Weil予想が含まれます。 フェルマー予想のワイルズの論文解説がWkipediaにあって、まあ、どっかの観光名所のように舗装されて道順がついて、照明で明るく道を照らしてあるような。。。とはいっても、楕円曲線（Z上の）のモジュライ曲線とかとかヘッケ環によるモジュラー性とかヘッケ環の変形環とか既約表現とかいろいろ難しそうですが、モジュラリティのリフトで一つの素点で成り立てば、ほかの素点でも成り立つとか、そのために岩沢理論とオイラーシステムを掛け合わせて利用するとか、書かれてあって、筋道は綺麗に解説されてました。"
      ],
      "metadata": {
        "id": "ADwo275iyoh3"
      }
    },
    {
      "cell_type": "markdown",
      "source": [
        "- 話がそれました、ここで、極大アーベル拡大に対応するガロア群が与えられますが、ここで射影極限が出てきます。これを、幾何的に考えます。最初のガウスの整数でいうと　これはZ[i]で表されますが\n",
        "Z--> Z[i] という環の埋め込みですが　Spec Z[i] $\\rightarrow$ Spec Z とスキームでは向きが逆になります。Spec Z　での点は素点つまり素数です。ここでは更に無限素点∞を加えておきますが各素点つまり　素数がZ[i]でどういうふうに分解されるかが幾何的には　Zの素イデアルｐのZ[i]ｐがZ[i]の素イデアルでどう分解されるかという図式になります。ここにガロア群が作用します。各素数ごとに見る話が、いわゆる局所類体論ですが　素数ｐでZをテイラー展開したのが$Z_p$ で射影極限で与えられると同時にp進絶対値を使って距離を入れて完備化したものです。同じようにQもｐでローラン展開したものが$Q_p$でこちらも同じくp進絶対値で完備化したものになって、∞素点というのはQを普通に実数に完備化したものになります。\n",
        "$Z_p$は射影極限でつくりますが、この極限は圏論的な極限ですね、それと今の場合　作り方から　$Z/p^nZ$たちのｎ＞０についての直積にそれぞれは離散位相入れて、直積位相をとった直積空間の閉部分空間として実現されます。直積空間は有限集合の直積で有限集合はコンパクトだからティコノフの定理で直積もコンパクト、その閉集合はやはりコンパクトなのでZ_pはコンパクト、したがって距離空間だったら全有界かつ完備に。ここから$Q_p$も完備に。"
      ],
      "metadata": {
        "id": "BxNTQdRO11U3"
      }
    }
  ]
}