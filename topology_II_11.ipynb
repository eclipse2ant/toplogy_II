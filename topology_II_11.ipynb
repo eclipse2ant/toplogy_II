{
  "nbformat": 4,
  "nbformat_minor": 0,
  "metadata": {
    "colab": {
      "provenance": [],
      "authorship_tag": "ABX9TyO9iCyqIj1eUNuvTdQbNRka",
      "include_colab_link": true
    },
    "kernelspec": {
      "name": "python3",
      "display_name": "Python 3"
    },
    "language_info": {
      "name": "python"
    }
  },
  "cells": [
    {
      "cell_type": "markdown",
      "metadata": {
        "id": "view-in-github",
        "colab_type": "text"
      },
      "source": [
        "<a href=\"https://colab.research.google.com/github/eclipse2ant/toplogy_II/blob/master/topology_II_11.ipynb\" target=\"_parent\"><img src=\"https://colab.research.google.com/assets/colab-badge.svg\" alt=\"Open In Colab\"/></a>"
      ]
    },
    {
      "cell_type": "markdown",
      "source": [
        "#11. 位相空間論自体の応用例"
      ],
      "metadata": {
        "id": "9Vq_TYAtNTOR"
      }
    },
    {
      "cell_type": "markdown",
      "source": [
        " - いかかでしょう、位相は、実に多義にわたって現代数学と関係してますが、それ自体より、そこから派生した概念がいろいろ数学において基本的な役割を果たして、もはやただ位相を学ぶだけでは、不十分なことが感じられたと思います。圏論や層それもGrothendieck の意味での層や位相(site または 景) モデル圏やホモトピーといった話、代数幾何学や代数的位相幾何の話を中心に述べてきました。圏論をアナロジーのてこにして、位相のいろんな概念が違った形でどういう働きを持つかを考えることは、非常に大切だと思います。"
      ],
      "metadata": {
        "id": "NUyrH8P6vEtn"
      }
    },
    {
      "cell_type": "markdown",
      "source": [
        "- ここでは元の位相空間自体で、直接の使われ方を見てみましょう。(話の中で　Connected(連結性) が出てきますが、13回で取り扱いますが今はとりあえず自分で調べてみてください）"
      ],
      "metadata": {
        "id": "JA2AFW0CxL0W"
      }
    },
    {
      "cell_type": "markdown",
      "source": [
        "##11.1. 具体例をさがして"
      ],
      "metadata": {
        "id": "ho7aQju2xeG3"
      }
    },
    {
      "cell_type": "markdown",
      "source": [
        "- 位相空間論ってYoutube　動画見てると　なんか　めっちゃ難しがられてますが。実数やε−δ論法からはいろうとするからで、そうではなく端的に集合に単純な三つの条件が入ったとして、他に余分な変な詮索しなければ、こんな単純なものはないです。連続や極限も意味はすんなり理解できると思います。\n",
        "また前回書いたように、もはや　General ではなくなってしまっています。とはいえ、何か使ってる具体例を授業で見せる方がいいかなぁって思ってて、ただ性質や定義を並べて証明しても、それは苦しいだけで興味がわかないのかもしれません。（私は学んだ際に、勝手に想像して空想して楽しかったのですが）。\n",
        "で、具体例でしかもしっかり使う例、かつ位相がないとやっていけない例って。。。\n",
        "って思ってたら、ありました。<br>[Abelian Galois Theory](https://drive.google.com/file/d/1S3aSUEFAfEoajQLUJvdh6jJ9zmicYLKW/view?usp=sharing) <br>[p-adic number local and global](https://drive.google.com/file/d/1DxTci7ADK9-TZred1Y07OaQJzMDXMOLO/view?usp=sharing)<br> [Adeles and Ideales ](https://drive.google.com/file/d/10lXqc-uJKrvfxxn1haohZczCqVP-dk9v/view?usp=sharing)<br> もとは<br> https://arxiv.org/pdf/hep-th/0512172.pdf <br>の一番最初の部分です。"
      ],
      "metadata": {
        "id": "posaBo9gyhzG"
      }
    },
    {
      "cell_type": "markdown",
      "source": [
        "- 有理数の集合Qに１の４乗根を追加して、新しい体を作ります。実際は a+bi  a,b は有理数　これが分数に当たる整数として　a+bi a,b は整数という新しい整数を考えます。これはガウスの整数といって由緒正しき整数です。この時、普通の素数は素数でなくなります。例えば5=(1+2i)(1-2i)=1+4\n",
        "このように数を拡張して、その性質を見る分野が代数的整数論で、ここでそのガロア群を調べるために、より簡単なものに帰着させる話が類体論になってきます。類体論が扱うのは、ガロア群が可換なものアーベル群の場合だけです。非可換なものを扱おうとするのがラングランズプログラムで、それこそフェルマーの最終定理の谷山-Weil予想が含まれます。 フェルマー予想のワイルズの論文解説がWkipediaにあって、まあ、どっかの観光名所のように舗装されて道順がついて、照明で明るく道を照らしてあるような。。。とはいっても、楕円曲線（Z上の）のモジュライ曲線とかとかヘッケ環によるモジュラー性とかヘッケ環の変形環とか既約表現とかいろいろ難しそうですが、モジュラリティのリフトとか、そのために岩沢理論とオイラーシステムを掛け合わせて利用するとか、書かれてあって、筋道は綺麗に解説されてました。"
      ],
      "metadata": {
        "id": "ADwo275iyoh3"
      }
    },
    {
      "cell_type": "markdown",
      "source": [
        "- 話がそれました、ここで、極大アーベル拡大に対応するガロア群が与えられますが、ここで射影極限が出てきます。これを、幾何的に考えます。最初のガウスの整数でいうと　これはZ[i]で表されますが\n",
        "Z--> Z[i] という環の埋め込みですが　Spec Z[i] $\\rightarrow$ Spec Z とスキームでは向きが逆になります。Spec Z　での点は素点つまり素数です。ここでは更に無限素点∞を加えておきますが各素点つまり　素数がZ[i]でどういうふうに分解されるかが幾何的には　Zの素イデアルｐのZ[i]ｐがZ[i]の素イデアルでどう分解されるかという図式になります。ここにガロア群が作用します。各素数ごとに見る話が、いわゆる局所類体論ですが　素数ｐでZをテイラー展開したのが$Z_p$ で射影極限で与えられると同時にp進絶対値を使って距離を入れて完備化したものです。同じようにQもｐでローラン展開したものが$Q_p$でこちらも同じくp進絶対値で完備化したものになって、∞素点というのはQを普通に実数に完備化したものになります。\n",
        "$Z_p$は射影極限でつくりますが、この極限は圏論的な極限ですね、それと今の場合　作り方から　$Z/p^nZ$たちのｎ＞０についての直積にそれぞれは離散位相入れて、直積位相をとった直積空間の閉部分空間として実現されます。直積空間は有限集合の直積で有限集合はコンパクトだからチコノフの定理で直積もコンパクト、その閉集合はやはりコンパクトなので$Z_p$はコンパクト、したがって距離空間だったら全有界かつ完備に。ここから$Q_p$も完備に。"
      ],
      "metadata": {
        "id": "BxNTQdRO11U3"
      }
    },
    {
      "cell_type": "markdown",
      "source": [
        "- 少しまとめてみましょう。ここでは有理数体Q を完備化するのに、いわゆる通常の完備化は実数になりますがその他に素数ごとに完備化があって。p進絶対値という絶対値で完備化します。これはp進整数という射影極限で与えられるZ_pからも得られます。イメージ的には、Spec Z と　無限素点で　　複素平面と無限遠点∞　でできるリーマン球面ないしは一次元の複素射影空間$P^1(C)$ の各点で関数をテーラー展開したものが$Z_p$　ローラン展開しものが$Q_p$にあたります。このように幾何的にとらえられるわけです。素数側を有限素点といいます。\n",
        "先ほどのガウス整数Z[i] は　有理数体Qにi を付加してできる最小の体Q(i) にたいしての整数に当たります。Q から Q(i) は体の拡大で　今の場合ガロア拡大になっていてガロア群はa+bi を共役のa-bi に移す変換です。もう少し一般的に書いたのが[Extension.jpg]( https://drive.google.com/file/d/1Sjxhc8hjYZC2viSFMoMjpmWbaU4RM87P/view?usp=sharing) です。今の場合　A=Z B=Z[i] K=Q　L=Q(i) です。各Spec Z の有限素点ｐ　（素イデアル）に　対して　Spec Z[i] $\\rightarrow$ Spec Z で　Spec Z[i] 素点$q_1,...q_g$ がｐに落ちてくるとするとpB=  の式のような関係が出てきます。今の場合 g　は１か２のいずれかで、今は不分岐なので$q_i$ の冪は全部１で　 ｇが１の時は剰余次数が２　gが２の時は剰余次数が１となっています。共役をとる操作が今の場合はがロア群でこれによって各$q_i$ たちは移りあいます。\n",
        "さて、ここで [Adeles and Ideales-1.jpg](https://drive.google.com/file/d/1nyLynWZB0uvgCK1LGcOFe8tc7MpCeYGH/view?usp=sharing) のように考えてみましょう。アデール環や　イデール群は　位相環　位相群になり　局所コンパクトです。"
      ],
      "metadata": {
        "id": "MbXx9MX222uG"
      }
    },
    {
      "cell_type": "markdown",
      "source": [
        "- 類体論はガロア拡大でガロア群が可換な場合の話で、このガロア群を別のもので近似する話です。、極大可換ガロア群はイデール類群で近似するのですが実際今の場合（つまりQに対し） [Adeles and Ideales ](https://drive.google.com/file/d/10lXqc-uJKrvfxxn1haohZczCqVP-dk9v/view?) にあるように、イデール類群の連結成分のなす群がガロア群になります。実際$Z_p$は完全不連結ですべての点が連結成分でかたや$R^+$ は連結であることから従います。\n",
        "どうです　連結やコンパクトや局所コンパクトがこのように非常に重要な概念であることがわかると思います。さらにイデアル類群というのは　イデール類群から無限素点の成分と有限素点は$Z_p$で剰余をとるとこれは　リーマン面とのアナロジーではカルティエ因子を表しており、Spec A 　 上の直線束の同型類を表しており、これが類体論で　極大不分岐拡大のガロア群に対応しますが、Qの場合は不分岐拡大は存在しないので、自明になります。このことは整数が素因数分解できること　単項イデアル整域であることに起因します。\n",
        "位相を勉強することによっていろいろ数の世界が広がることをまとめてみました。\n"
      ],
      "metadata": {
        "id": "5iFzKpxF4z8v"
      }
    }
  ]
}