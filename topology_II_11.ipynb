{
  "nbformat": 4,
  "nbformat_minor": 0,
  "metadata": {
    "colab": {
      "provenance": [],
      "authorship_tag": "ABX9TyPhQ3sCsiKOiNpvCeqZBPDv",
      "include_colab_link": true
    },
    "kernelspec": {
      "name": "python3",
      "display_name": "Python 3"
    },
    "language_info": {
      "name": "python"
    }
  },
  "cells": [
    {
      "cell_type": "markdown",
      "metadata": {
        "id": "view-in-github",
        "colab_type": "text"
      },
      "source": [
        "<a href=\"https://colab.research.google.com/github/eclipse2ant/toplogy_II/blob/master/topology_II_11.ipynb\" target=\"_parent\"><img src=\"https://colab.research.google.com/assets/colab-badge.svg\" alt=\"Open In Colab\"/></a>"
      ]
    },
    {
      "cell_type": "markdown",
      "source": [
        "#10. 位相空間論自体の応用例"
      ],
      "metadata": {
        "id": "9Vq_TYAtNTOR"
      }
    },
    {
      "cell_type": "markdown",
      "source": [
        " - いかかでしょう、位相は、実に多義にわたって現代数学と関係してますが、それ自体より、そこから派生した概念がいろいろ数学において基本的な役割を果たして、もはやただ位相を学ぶだけでは、不十分なことが感じられたと思います。圏論や層それもGrothendieck の意味での層や位相(site または 景) モデル圏やホモトピーといった話、代数幾何学や代数的位相幾何の話を中心に述べてきました。圏論をアナロジーのてこにして、位相のいろんな概念が違った形でどういう働きを持つかを考えることは、非常に大切だと思います。"
      ],
      "metadata": {
        "id": "NUyrH8P6vEtn"
      }
    },
    {
      "cell_type": "markdown",
      "source": [
        "- ここでは元の位相空間自体で、直接の使われ方を見てみましょう。"
      ],
      "metadata": {
        "id": "JA2AFW0CxL0W"
      }
    },
    {
      "cell_type": "markdown",
      "source": [],
      "metadata": {
        "id": "ho7aQju2xeG3"
      }
    }
  ]
}