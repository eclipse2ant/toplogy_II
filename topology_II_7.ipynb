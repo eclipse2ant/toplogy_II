{
  "nbformat": 4,
  "nbformat_minor": 0,
  "metadata": {
    "colab": {
      "provenance": [],
      "authorship_tag": "ABX9TyM5iT86WKBJ8uqDzzAAFvxJ",
      "include_colab_link": true
    },
    "kernelspec": {
      "name": "python3",
      "display_name": "Python 3"
    },
    "language_info": {
      "name": "python"
    }
  },
  "cells": [
    {
      "cell_type": "markdown",
      "metadata": {
        "id": "view-in-github",
        "colab_type": "text"
      },
      "source": [
        "<a href=\"https://colab.research.google.com/github/eclipse2ant/toplogy_II/blob/master/topology_II_7.ipynb\" target=\"_parent\"><img src=\"https://colab.research.google.com/assets/colab-badge.svg\" alt=\"Open In Colab\"/></a>"
      ]
    },
    {
      "cell_type": "markdown",
      "source": [
        "#7.  アフィンスキーム、数論幾何"
      ],
      "metadata": {
        "id": "9Vq_TYAtNTOR"
      }
    },
    {
      "cell_type": "markdown",
      "source": [
        "- 前回はデカルト閉圏、CGWHについて、学びました。直積や冪、または極限や余極限といった操作で閉じた圏になっていました。圏に対してこれらの操作で閉じるようにしたのは、本では6章で、ホモトピー論を展開していくためです。ホモトピーは$K$理論や(コ)ボルディズムを展開するために必須の概念になってきます。そのために位相に様々な要求を課したのでした。しかし、代数幾何学や数論幾何で扱う位相では。これらの位相に課せられた要請は満たしません。CGWHになっていません。"
      ],
      "metadata": {
        "id": "4PK8dJ1WJAZ-"
      }
    },
    {
      "cell_type": "markdown",
      "source": [
        "##7.1. 位相空間の分離公理と可算公理"
      ],
      "metadata": {
        "id": "ei1uvmZ8YMMl"
      }
    },
    {
      "cell_type": "markdown",
      "source": [
        "- 位相空間はもともと実数の位相から一般化したものです。どの程度、実数の位相からかけ離れているかを見る度合いとして分離公理があります。\n",
        "[分離公理(wiki)](https://ja.wikipedia.org/wiki/%E5%88%86%E9%9B%A2%E5%85%AC%E7%90%86)　 [第一可算公理(wiki)](https://ja.wikipedia.org/wiki/%E7%AC%AC%E4%B8%80%E5%8F%AF%E7%AE%97%E7%9A%84%E7%A9%BA%E9%96%93)　 [第二可算公理(wiki)](https://ja.wikipedia.org/wiki/%E7%AC%AC%E4%BA%8C%E5%8F%AF%E7%AE%97%E7%9A%84%E7%A9%BA%E9%96%93)"
      ],
      "metadata": {
        "id": "9QvMHWSkF0Gt"
      }
    },
    {
      "cell_type": "markdown",
      "source": [
        "- $T_1$  : 一点が閉集合であることと、同値です。"
      ],
      "metadata": {
        "id": "slpET7YdHOfL"
      }
    },
    {
      "cell_type": "markdown",
      "source": [
        "- $T_2$ ハウスドルフ公理ともいいます。$T_2$ ならば、当然 $T_1$ です。また弱ハウスドルフも $T_1$ です。"
      ],
      "metadata": {
        "id": "qm5Y-r3AHpBD"
      }
    },
    {
      "cell_type": "markdown",
      "source": [
        "- 第一可算公理が成り立つときは\n",
        "  - **Theorem 3.5** Let $X$ be a first countable space. Then $X$ is Hausdorff if and only if every sequence has at most one limit.\n",
        "  - **Theorem 3.6** Let $X$ be a first countable space and let $A \\subseteq X$. A point $x \\in \\overline{A}\\ $ if and only if there exists a sequence $\\{x_n\\}$ in A with $\\{x_n\\} \\rightarrow x$.\n",
        "  - **Theorem 3.7** Suppose $X$ and $Y$ are first countable. A function $f : X \\longrightarrow  Y$ is continuous if and only if for every sequence $\\{x_n\\}$ in $X$ with $\\{x_n\\} \\rightarrow  x$, the sequence $\\{fx_n\\} \\rightarrow \\ f x$ ."
      ],
      "metadata": {
        "id": "QCRWhjaQKCIK"
      }
    },
    {
      "cell_type": "markdown",
      "source": [
        "のように 点列で ハウスドルフ性、閉包、連続性が特徴づけられる。"
      ],
      "metadata": {
        "id": "lGARbbZihGkN"
      }
    },
    {
      "cell_type": "markdown",
      "source": [
        "- 一般の時はｍ点列の代わりに  **filter** を用いる。またコンパクト性も同じく特徴づけられる　(**ultrafilter(超フィルター)**"
      ],
      "metadata": {
        "id": "IxSNN9MZmeTP"
      }
    },
    {
      "cell_type": "markdown",
      "source": [
        "- この本ではチコノフの定理をultrafilter(超フィルター）を使って、証明している。\n"
      ],
      "metadata": {
        "id": "vm9Q_LGLs_wO"
      }
    },
    {
      "cell_type": "markdown",
      "source": [
        "## 7.2. $Z$ と $C[X]$"
      ],
      "metadata": {
        "id": "goWJ70P1t8Em"
      }
    },
    {
      "cell_type": "markdown",
      "source": [
        "- アンドレ・ヴェイユというと、有名な女性思想家、シモーヌ・ヴェイユのお兄さんです。数論を代数幾何学で解こうとしたのは彼であり、それを具体的に実現していったのはグロタンディークのスキーム理論になります。まず整数 $Z$ と 複素係数の多項式全体$C[X]$ の比較から始めましょう。"
      ],
      "metadata": {
        "id": "KPc3fcLMuBq-"
      }
    },
    {
      "cell_type": "markdown",
      "source": [
        "- 私たちは小学校で数について学びます。整数、足し算、引き算、掛け算、割り算は余りが出ますよね。また引き算は和に関しての逆元（すなわち足して０になる数）を足すことでした。これは環という代数的構造です。さらに中学校で式の計算を学びます。このとき整数での学びが生かされます。つまり整数$Z$ と　多項式環$C[X]$ 似たような代数的構造をしています。[arithmetic geom](https://drive.google.com/file/d/1jbxkstraK9OTSugMudQ4DxO9ilW-MAQ3/view?usp=sharing) に書いたように、素因数分解と多項式の一次式への分解（代数学の基本定理）が対応しています。また、多項式における代入という操作は割り算の余りをとる操作に対応しており、逆に勝手な整数$n$ に対して、素数$p$ を**<font color=\"red\">\"代入\"</font>**するという操作を $n \\equiv n(p) ~ mod ~p$ つまり$n$ を$p$ で割った余り$n(p)$ を求めることだとします。今 素数全体を集合を　$M$ だとすると整数$n$ を$M$上の関数と思うことができます。さてこれで　多項式は$C$上の関数、整数$n$ は $M$ 上の関数と思えます。もう少し見方を変えていきます。ここでは関数を層の言葉に置き替えます。層については、後で説明しますが、まず空間$M$ や $C$ に位相構造を定義します。"
      ],
      "metadata": {
        "id": "GPzBo1HRuPGe"
      }
    },
    {
      "cell_type": "markdown",
      "source": [
        "##7.3. ザリスキー位相"
      ],
      "metadata": {
        "id": "6bIEDJUIuetu"
      }
    },
    {
      "cell_type": "markdown",
      "source": [
        "- [arithmetic geom](https://drive.google.com/file/d/1jbxkstraK9OTSugMudQ4DxO9ilW-MAQ3/view?usp=sharing) に書いたように、ザリスキー位相を定めます。位相があると、連続、極限が考えられますが、その他にもう一つ、実はこちらの方が重要なのですが、局所、大域の区別ができる、つまりある点の十分近い所というのが局所ですね。ある点を含む開集合上に関数を制限することや、その狭い領域でしか定義できない関数が現れます。今の場合、開集合は、基本的に有限個の点を除いた集合です。その有限個の点でしか０にならない数　または多項式を分母に持ってくる。つまりその有限個の因子を約数に持たない数また多項式を分母に持つ分数や有理式を考えることができます。これって、有限個の点ですが、いくらでも抜くことだできますよね。この極限的状況を $colimit$で定義できます。詳しいことは、[arithmetic geom](https://drive.google.com/file/d/1jbxkstraK9OTSugMudQ4DxO9ilW-MAQ3/view?usp=sharing) を見てください"
      ],
      "metadata": {
        "id": "PIgYWcOruoCu"
      }
    },
    {
      "cell_type": "markdown",
      "source": [
        "##7.4. 層、茎"
      ],
      "metadata": {
        "id": "coolfSW8veSW"
      }
    },
    {
      "cell_type": "markdown",
      "source": [
        "- $\\cal F_p$ や $\\cal F_\\alpha$ を$\\cal F$ の$x$ または $\\alpha$ でのstalk（茎)といいます。$\\cal F$ をSheaf(層) といいます。層に関してはまた圏論を扱う際にも触れますが、層を使うと、実際関数でなくても、関数のように扱うことが可能になって、いろんな一般化ができます。また　今の話を$Z$ や $C[X]$ から一般の可換環$A$ で話をするには、[arithmetic geom](https://drive.google.com/file/d/1jbxkstraK9OTSugMudQ4DxO9ilW-MAQ3/view?usp=sharing) に書いたように、イデアルで考えて、$Spec ~A$  として素イデアル全体の集合を考えます。これをアフィンスキームといいます。この考え方で言うとき$M$ や $C$ は　Mに$0$ を加え、さらに$C$ の方は複素数$\\alpha$ を $(X-\\alpha)$ と対応させて、$C[X]$ で考えて　さらに$0$ を加えます。加える理由は、素イデアルに$0$イデアルが含まれるからです。"
      ],
      "metadata": {
        "id": "7wCWdaoHvkUP"
      }
    },
    {
      "cell_type": "markdown",
      "source": [
        "##7.5. 実位相とザリスキー位相"
      ],
      "metadata": {
        "id": "YGeiGp3nvuul"
      }
    },
    {
      "cell_type": "markdown",
      "source": [
        " - 複素数の時を見ればわかるように、解析的な話では、複素数は $R^2$ の位相を使いました。それに対し、代数幾何では、ザリスキー位相を実際　開集合は、空集合か$C$か$C$ から有限個点を除いた集合しかありません。従って、ハウスドルフ空間ではないので、点列が異なる２点に収束することもありえますし、コンパクトであっても閉集合とは限りません。さらに $Spec~C[X]$ だと $C[X]$ の素イデアルですから、この場合はユークリッド整域なので、イデアルは一元から生成できて、既約ですから代数学の基本定理で１次式で生成されます（したがって極大イデアル）、または $(0)$ です。後者は閉包は $C[X]$ ですから 、この場合は$T_1$ 公理すら満たしません。"
      ],
      "metadata": {
        "id": "addESu4zv9Pt"
      }
    },
    {
      "cell_type": "markdown",
      "source": [
        " - Zariski open なら、実位相でも open で、実位相のの方が細かいわけですが、ザリスキー位相は粗すぎるため、エタール位相を考えたりしますが、これはすでに、普通の位相の定義ではなくなって、グロタンディーク位相になります。"
      ],
      "metadata": {
        "id": "wCwippazwDbG"
      }
    },
    {
      "cell_type": "markdown",
      "source": [
        "##7.6. 空間の点について"
      ],
      "metadata": {
        "id": "9PKq8Io5wdOW"
      }
    },
    {
      "cell_type": "markdown",
      "source": [
        "- $Z$や $C[X]$ の例でも分かるように、スキームで考える際は、素イデアルが点の扱いなので、例えば$C[X,Y]$ とかだと 既約多項式 で生成されるイデアルも素イデアルです。"
      ],
      "metadata": {
        "id": "N0i6jdxHw353"
      }
    },
    {
      "cell_type": "markdown",
      "source": [
        "- 可換環$ A$ に対して、$\\mathfrak{p}$ が prime ideal $\\Longleftrightarrow$ $A/\\mathfrak{p}$ が整域, $\\mathfrak{m}$ が maximal ideal $\\Longleftrightarrow$ $A/\\mathfrak{m}$ が体, $I$ をイデアルとしたとき、閉集合を $Z(I)=\\{\\ \\mathfrak{p} : prime\\ ideal \\mid  I \\subset  \\mathfrak{p}\\ \\}$ で定めてできる位相がザリスキー位相です。"
      ],
      "metadata": {
        "id": "IinMtq7yxHAE"
      }
    },
    {
      "cell_type": "markdown",
      "source": [
        "- $\\mathrm{Spec}\\ A = \\ \\{\\mathfrak{p} \\mid \\mathfrak{p} \\ : prime\\ ideal \\ \\}$ であり、$\\overline{\\mathfrak{p}}=\\mathfrak{p} \\Longleftrightarrow \\mathfrak{p}\\ :  maximal $ だから、$T_1$公理を満たさない。"
      ],
      "metadata": {
        "id": "9tI1IQF07s-D"
      }
    }
  ]
}