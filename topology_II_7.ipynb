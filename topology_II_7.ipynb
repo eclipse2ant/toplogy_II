{
  "nbformat": 4,
  "nbformat_minor": 0,
  "metadata": {
    "colab": {
      "provenance": [],
      "authorship_tag": "ABX9TyPWtF2P5NX76IjpxmzOFjWY",
      "include_colab_link": true
    },
    "kernelspec": {
      "name": "python3",
      "display_name": "Python 3"
    },
    "language_info": {
      "name": "python"
    }
  },
  "cells": [
    {
      "cell_type": "markdown",
      "metadata": {
        "id": "view-in-github",
        "colab_type": "text"
      },
      "source": [
        "<a href=\"https://colab.research.google.com/github/eclipse2ant/toplogy_II/blob/master/topology_II_7.ipynb\" target=\"_parent\"><img src=\"https://colab.research.google.com/assets/colab-badge.svg\" alt=\"Open In Colab\"/></a>"
      ]
    },
    {
      "cell_type": "markdown",
      "source": [
        "#6.  アフィンスキーム、数論幾何"
      ],
      "metadata": {
        "id": "9Vq_TYAtNTOR"
      }
    },
    {
      "cell_type": "markdown",
      "source": [
        "- 前回はデカルト閉圏、CGWHについて、学びました。直積や冪、または極限や余極限といった操作で閉じた圏になっていました。圏に対してこれらの操作で閉じるようにしたのは、本では6章で、ホモトピー論を展開していくためです。ホモトピーは$K$理論や(コ)ボルディズムを展開するために必須の概念になってきます。そのために位相に様々な要求を課したのでした。しかし、代数幾何学や数論幾何で扱う位相では。これらの位相に課せられた要請は満たしません。CGWHになっていません。"
      ],
      "metadata": {
        "id": "4PK8dJ1WJAZ-"
      }
    },
    {
      "cell_type": "markdown",
      "source": [
        "##6.1. 位相空間の分離公理と可算公理"
      ],
      "metadata": {
        "id": "ei1uvmZ8YMMl"
      }
    },
    {
      "cell_type": "markdown",
      "source": [
        "- 位相空間はもともと実数の位相から一般化したものです。どの程度、実数の位相からかけ離れているかを見る度合いとして分離公理があります。\n",
        "[分離公理(wiki)](https://ja.wikipedia.org/wiki/%E5%88%86%E9%9B%A2%E5%85%AC%E7%90%86)　 [第一可算公理(wiki)](https://ja.wikipedia.org/wiki/%E7%AC%AC%E4%B8%80%E5%8F%AF%E7%AE%97%E7%9A%84%E7%A9%BA%E9%96%93)　 [第二可算公理(wiki)](https://ja.wikipedia.org/wiki/%E7%AC%AC%E4%BA%8C%E5%8F%AF%E7%AE%97%E7%9A%84%E7%A9%BA%E9%96%93)"
      ],
      "metadata": {
        "id": "9QvMHWSkF0Gt"
      }
    },
    {
      "cell_type": "markdown",
      "source": [
        "- $T_1$  : 一点が閉集合であることと、同値です。"
      ],
      "metadata": {
        "id": "slpET7YdHOfL"
      }
    },
    {
      "cell_type": "markdown",
      "source": [],
      "metadata": {
        "id": "E4Xe4Sc9kc8O"
      }
    },
    {
      "cell_type": "markdown",
      "source": [
        "- $T_2$ ハウスドルフ公理ともいいます。$T_2$ ならば、当然 $T_1$ です。また弱ハウスドルフも $T_1$ です。"
      ],
      "metadata": {
        "id": "qm5Y-r3AHpBD"
      }
    },
    {
      "cell_type": "markdown",
      "source": [
        "- 第一可算公理が成り立つときは\n",
        "  - **Theorem 3.5** Let $X$ be a first countable space. Then $X$ is Hausdorff if and only if every sequence has at most one limit.\n",
        "  - **Theorem 3.6** Let $X$ be a first countable space and let $A \\subseteq X$. A point $x \\in \\overline{A}\\ $ if and only if there exists a sequence $\\{x_n\\}$ in A with $\\{x_n\\} \\rightarrow x$.\n",
        "  - **Theorem 3.7** Suppose $X$ and $Y$ are first countable. A function $f : X \\longrightarrow  Y$ is continuous if and only if for every sequence $\\{x_n\\}$ in $X$ with $\\{x_n\\} \\rightarrow  x$, the sequence $\\{fx_n\\} \\rightarrow \\ f x$ ."
      ],
      "metadata": {
        "id": "QCRWhjaQKCIK"
      }
    },
    {
      "cell_type": "markdown",
      "source": [
        "のように 点列で ハウスドルフ性、閉包、連続性が特徴づけられる。"
      ],
      "metadata": {
        "id": "lGARbbZihGkN"
      }
    },
    {
      "cell_type": "markdown",
      "source": [
        "- 一般の時はｍ点列の代わりに  **filter** を用いる。またコンパクト性も同じく特徴づけられる　(**ultrafilter(超フィルター)**"
      ],
      "metadata": {
        "id": "IxSNN9MZmeTP"
      }
    },
    {
      "cell_type": "markdown",
      "source": [
        "- この本ではチコノフの定理をultrafilter(超フィルター）を使って、証明している。\n"
      ],
      "metadata": {
        "id": "vm9Q_LGLs_wO"
      }
    }
  ]
}