{
  "nbformat": 4,
  "nbformat_minor": 0,
  "metadata": {
    "colab": {
      "provenance": [],
      "authorship_tag": "ABX9TyOaUxxzVVeEGuTzzd56UCp9",
      "include_colab_link": true
    },
    "kernelspec": {
      "name": "python3",
      "display_name": "Python 3"
    },
    "language_info": {
      "name": "python"
    }
  },
  "cells": [
    {
      "cell_type": "markdown",
      "metadata": {
        "id": "view-in-github",
        "colab_type": "text"
      },
      "source": [
        "<a href=\"https://colab.research.google.com/github/eclipse2ant/toplogy_II/blob/master/topology_II_7.ipynb\" target=\"_parent\"><img src=\"https://colab.research.google.com/assets/colab-badge.svg\" alt=\"Open In Colab\"/></a>"
      ]
    },
    {
      "cell_type": "markdown",
      "source": [
        "#6.  アフィンスキーム、数論幾何"
      ],
      "metadata": {
        "id": "9Vq_TYAtNTOR"
      }
    },
    {
      "cell_type": "markdown",
      "source": [
        "- 前回はデカルト閉圏、CGWHについて、学びました。直積や冪、または極限や余極限といった操作で閉じた圏になっていました。圏に対してこれらの操作で閉じるようにしたのは、本では6章で、ホモトピー論を展開していくためです。ホモトピーは$K$理論や(コ)ボルディズムを展開するために必須の概念になってきます。そのために位相に様々な要求を課したのでした。しかし、代数幾何学や数論幾何で扱う位相では。これらの位相に課せられた要請は満たしません。CGWHになっていません。"
      ],
      "metadata": {
        "id": "4PK8dJ1WJAZ-"
      }
    },
    {
      "cell_type": "markdown",
      "source": [
        "##6.1. 位相空間の分離公理"
      ],
      "metadata": {
        "id": "ei1uvmZ8YMMl"
      }
    },
    {
      "cell_type": "markdown",
      "source": [
        "- 位相空間はもともと実数の位相から一般化したものです。どの程度、実数の位相からかけ離れているかを見る度合いとして分離公理があります。\n",
        "[分離公理(wiki)](https://ja.wikipedia.org/wiki/%E5%88%86%E9%9B%A2%E5%85%AC%E7%90%86)"
      ],
      "metadata": {
        "id": "9QvMHWSkF0Gt"
      }
    }
  ]
}