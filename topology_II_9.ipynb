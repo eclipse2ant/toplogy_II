{
  "nbformat": 4,
  "nbformat_minor": 0,
  "metadata": {
    "colab": {
      "provenance": [],
      "authorship_tag": "ABX9TyPOJXagKRRxA2AVNuCV60F9",
      "include_colab_link": true
    },
    "kernelspec": {
      "name": "python3",
      "display_name": "Python 3"
    },
    "language_info": {
      "name": "python"
    }
  },
  "cells": [
    {
      "cell_type": "markdown",
      "metadata": {
        "id": "view-in-github",
        "colab_type": "text"
      },
      "source": [
        "<a href=\"https://colab.research.google.com/github/eclipse2ant/toplogy_II/blob/master/topology_II_9.ipynb\" target=\"_parent\"><img src=\"https://colab.research.google.com/assets/colab-badge.svg\" alt=\"Open In Colab\"/></a>"
      ]
    },
    {
      "cell_type": "markdown",
      "source": [
        "#8. $A^1-$ homotopy"
      ],
      "metadata": {
        "id": "9Vq_TYAtNTOR"
      }
    },
    {
      "cell_type": "markdown",
      "source": [
        "- 私たちは、実数やユークリッド空間の位相を抽象化して、位相空間を手に入れました。もとの位相からどれだけかけ離れてるかを知る度合いとして、分離公理や加算公理を学びました。また、位相空間のなす圏がいろんな演算に閉じるために、CGWHを定義し、デカルト閉圏という概念に到達しました。この圏はこれから学んでいく、ホモトピー論の出発点となる圏です。また一方で数論幾何や代数幾何で使われる位相はザリスキー位相やグロタンディーク位相で、これらはCGWHを満たしません。それどころかグロタンディーク位相は圏に定義されたciteであってもはや位相空間ですらありません。ではこれらのCGWHでない重要な例にデカルト閉圏を定義して、ホモトピー論を展開するには、どうしたらいいでしょうか？"
      ],
      "metadata": {
        "id": "bu4u64_B1crq"
      }
    },
    {
      "cell_type": "markdown",
      "source": [
        "- 位相空間論ってGeneral Topology って英語で言いますが、いまはGeneralなのかなぁ。その証拠にこの本では、**<font color=\"red\">Point-Set Topology</font>**  という言い方をしています。そこで<br>https://www.math.ias.edu/vladimir/sites/math.ias.edu.vladimir/files/A1_homotopy_ICM_1998_Berlin_published.pdf<br>を見ていきます。、<br>https://github.com/eclipse2ant/toplogy_II/blob/master/topology_II_2.ipynb<br>で いろんな分野が圏論でつながる動画をアップしました。今回は数学内部、通常の位相空間でホモトピーを使うには、コンパクト生成j弱ハウスドルフ空間（以下CGWHと略します）でないとだめです。"
      ],
      "metadata": {
        "id": "bDcDuHix7cci"
      }
    },
    {
      "cell_type": "markdown",
      "source": [
        "- そこで代数幾何でホモトピーを扱いたいときは、ザリスキー位相は弱ハウスドルフ空間でないのでだめです。そこで圏論でホモトピーの言葉を置き替えます。それがQuillenのモデル圏です。しかし圏論はぬいぐるみで言えば外側の皮だけです。プログラミングで言えばOOP(オブジェクト指向プログラミング)でいえばインターフェースであって実装するようなクラスやインスタンスが必要です。ぬいぐるみの中身をいろんな分野で置き替えて、いろんな関連を見ましたが、今の場合に中身を書いてるのが上に引用した、VoevodskyがICM1998（国際数学者会議）で行ったレクチャーです。ここで出てくるのがA^1ホモトピー論で、ここからモチビック・コホモロジーが出てくるし、代数的K理論にミルナー予想の解決を彼はして、フィールズ賞を2002年に受賞しています。\n"
      ],
      "metadata": {
        "id": "beliTYJNBy5v"
      }
    },
    {
      "cell_type": "markdown",
      "source": [
        "- ますQuikenn のモデル圏について、簡単に説明します。前にも述べましたが、<br>\n",
        "**Definition 6.1** Topological spaces $X$ and $Y$ are called homotopy equivalent if and only\n",
        "if there exist maps $f : X \\longrightarrow Y$ and $g: Y \\longrightarrow X$ with $f g \\simeq id_Y$ and $g f \\simeq id_X$. In thiscase, we write $X \\simeq Y$ and $f$ (or $g$) is called a homotopy equivalence. The category $\\mathbf{hTop}$\n",
        "is the category whose objects are spaces and whose morphisms are homotopy classes ofcontinuous maps. So, $\\ X \\simeq Y$ if and only if $X \\cong Y$ in $\\ \\mathbf{hTop}$<br> ここで、位相の言葉に依存している、写像のホモトピックの定義と二つの空間$X,Y$のホモトピー同値を別の古馬に言い換える必要があります。"
      ],
      "metadata": {
        "id": "STpNGtz9C38p"
      }
    }
  ]
}