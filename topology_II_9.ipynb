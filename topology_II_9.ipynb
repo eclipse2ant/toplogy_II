{
  "nbformat": 4,
  "nbformat_minor": 0,
  "metadata": {
    "colab": {
      "provenance": [],
      "authorship_tag": "ABX9TyNZ/V96DffhHbfKiEj0clNA",
      "include_colab_link": true
    },
    "kernelspec": {
      "name": "python3",
      "display_name": "Python 3"
    },
    "language_info": {
      "name": "python"
    }
  },
  "cells": [
    {
      "cell_type": "markdown",
      "metadata": {
        "id": "view-in-github",
        "colab_type": "text"
      },
      "source": [
        "<a href=\"https://colab.research.google.com/github/eclipse2ant/toplogy_II/blob/master/topology_II_9.ipynb\" target=\"_parent\"><img src=\"https://colab.research.google.com/assets/colab-badge.svg\" alt=\"Open In Colab\"/></a>"
      ]
    },
    {
      "cell_type": "markdown",
      "source": [
        "#8. $A^1-$ homotopy"
      ],
      "metadata": {
        "id": "9Vq_TYAtNTOR"
      }
    },
    {
      "cell_type": "markdown",
      "source": [
        "- 私たちは、実数やユークリッド空間の位相を抽象化して、位相空間を手に入れました。もとの位相からどれだけかけ離れてるかを知る度合いとして、分離公理や加算公理を学びました。また、位相空間のなす圏がいろんな演算に閉じるために、CGWHを定義し、デカルト閉圏という概念に到達しました。この圏はこれから学んでいく、ホモトピー論の出発点となる圏です。また一方で数論幾何や代数幾何で使われる位相はザリスキー位相やグロタンディーク位相で、これらはCGWHを満たしません。それどころかグロタンディーク位相は圏に定義されたciteであってもはや位相空間ですらありません。ではこれらのCGWHでない重要な例にデカルト閉圏を定義して、ホモトピー論を展開するには、どうしたらいいでしょうか？"
      ],
      "metadata": {
        "id": "bu4u64_B1crq"
      }
    },
    {
      "cell_type": "markdown",
      "source": [
        "- 位相空間論ってGeneral Topology って英語で言いますが、いまはGeneralなのかなぁ。その証拠にこの本では、**<font color=\"red\">Point-Set Topology</font>**  という言い方をしています。そこで<br>https://www.math.ias.edu/vladimir/sites/math.ias.edu.vladimir/files/A1_homotopy_ICM_1998_Berlin_published.pdf<br>を見ていきます。、<br>https://github.com/eclipse2ant/toplogy_II/blob/master/topology_II_2.ipynb<br>で いろんな分野が圏論でつながる動画をアップしました。今回は数学内部、通常の位相空間でホモトピーを使うには、コンパクト生成j弱ハウスドルフ空間（以下CGWHと略します）でないとだめです。"
      ],
      "metadata": {
        "id": "bDcDuHix7cci"
      }
    },
    {
      "cell_type": "markdown",
      "source": [
        "- そこで代数幾何でホモトピーを扱いたいときは、ザリスキー位相は弱ハウスドルフ空間でないのでだめです。そこで圏論でホモトピーの言葉を置き替えます。それがQuillenのモデル圏です。しかし圏論はぬいぐるみで言えば外側の皮だけです。プログラミングで言えばOOP(オブジェクト指向プログラミング)でいえばインターフェースであって実装するようなクラスやインスタンスが必要です。ぬいぐるみの中身をいろんな分野で置き替えて、いろんな関連を見ましたが、今の場合に中身を書いてるのが上に引用した、VoevodskyがICM1998（国際数学者会議）で行ったレクチャーです。ここで出てくるのがA^1ホモトピー論で、ここからモチビック・コホモロジーが出てくるし、代数的K理論にミルナー予想の解決を彼はして、フィールズ賞を2002年に受賞しています。\n"
      ],
      "metadata": {
        "id": "beliTYJNBy5v"
      }
    },
    {
      "cell_type": "markdown",
      "source": [
        "##8.1 Model Categories"
      ],
      "metadata": {
        "id": "y_3fl_GZRxDB"
      }
    },
    {
      "cell_type": "markdown",
      "source": [
        "- ますQuikenn のモデル圏について、簡単に説明します。前にも述べましたが、<br>\n",
        "**Definition 6.1** Topological spaces $X$ and $Y$ are called homotopy equivalent if and only\n",
        "if there exist maps $f : X \\longrightarrow Y$ and $g: Y \\longrightarrow X$ with $f g \\simeq id_Y$ and $g f \\simeq id_X$. In thiscase, we write $X \\simeq Y$ and $f$ (or $g$) is called a homotopy equivalence. The category $\\mathbf{hTop}$\n",
        "is the category whose objects are spaces and whose morphisms are homotopy classes ofcontinuous maps. So, $\\ X \\simeq Y$ if and only if $X \\cong Y$ in $\\ \\mathbf{hTop}$<br>"
      ],
      "metadata": {
        "id": "STpNGtz9C38p"
      }
    },
    {
      "cell_type": "markdown",
      "source": [
        "\n",
        "- ここで、位相の言葉に依存している、写像のホモトピックの定義と二つの空間$X,Y$のホモトピー同値を別の古馬に言い換える必要があります。最初のほうは、圏論的な言葉にかえるのに準備が必要です。[Model Categories and Simplicial Methods](https://homepages.math.uic.edu/~bshipley/goerss.pdf) のDefinition 2.4、2.7。"
      ],
      "metadata": {
        "id": "czyf6k4rDCh3"
      }
    },
    {
      "cell_type": "markdown",
      "source": [
        "-  後者はまず、ホモトピー同値だったら、そのホモトピー群は等しくなります。本の6章では1次のホモトピー群である基本群や基本亜群について触れています。ホモトピー群がすべて等し、弱ホモトピー同値と言いますが、位相空間が適当な条件例えばCW複体とかである時は逆も成り立ちます。弱ホモトピー同値を与える射の逆を追加して、同型を作ります。これは圏の局所化と言いますが、分数を作る操作とおんなじです。局所化という言い方は、例えば、アフィンスキームで構造層の$\\mathrm{Spec}\\ A$ 上のsection は $A$ ですが、分母に何か減を持ってくるときはその元が0 にならないような開集合上に制限したところで考えます。つまり分母に何か来るだけ、定義域が小さくなる。このイメージが局所化という言葉にあります。[Model Categories and Simplicial Methods](https://homepages.math.uic.edu/~bshipley/goerss.pdf) のDefinition 2.13 に書いてあるように、圏 $\\mathfrak{C}$ を弱ホモトピー同値の射を分母にして局所化します圏が$\\mathfrak{C}$ のホモトピー圏ですが、(2.1) のように $X_c → X$ is a cofibrant replacement and $Y → Y_f$ is fibrant replacement. これらのfiberant object と cofibirant object は、それぞれ<br> Let X be an object in the model category C. Then X is cofibrant\n",
        "There are corresponding notions of fibrant object and fibrant replacement; for example, X is fibrant if the unique morphism from X to the　terminal object is a fibration. で <br>M5. (Factorization) Any $f : X \\rightarrow Y$ can be factored two ways:<br>\n",
        "(i) $X \\xrightarrow{i} Z \\xrightarrow{q} Y$ , where $i$ is a cofibration and $q$ is a weak equivalence\n",
        "and a fibration.<br>\n",
        "(ii) $X \\xrightarrow{j} Z \\xrightarrow{p} Y$ , where $j$ is a weak equivalence and a cofibration and $p$ is a fibration."
      ],
      "metadata": {
        "id": "47-atFKQI36l"
      }
    },
    {
      "cell_type": "markdown",
      "source": [
        "- つまり $X$ と $Y$ のホモトピー圏の射は、$X_c$ と $Y_f$ にホモトピー弱同値で置き換えられたときのホモトピー同値（Definition 2.13) で作られる同値類で与えられることになります。従って、fibrant, cofibrant weak homotopy equivalence な射、三つのクラスを公理的に定めれば、ホモトピー論が構築できることになり、この三つのしかるべき条件条件を満たす圏をモデル圏として定義します。"
      ],
      "metadata": {
        "id": "DBTt6C6LQAvB"
      }
    }
  ]
}